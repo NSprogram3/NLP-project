{
  "cells": [
    {
      "cell_type": "markdown",
      "metadata": {
        "id": "view-in-github",
        "colab_type": "text"
      },
      "source": [
        "<a href=\"https://colab.research.google.com/github/NSprogram3/NLP-project/blob/main/NLP_Project.ipynb\" target=\"_parent\"><img src=\"https://colab.research.google.com/assets/colab-badge.svg\" alt=\"Open In Colab\"/></a>"
      ]
    },
    {
      "cell_type": "code",
      "execution_count": null,
      "id": "d54105ab",
      "metadata": {
        "id": "d54105ab",
        "outputId": "7226c517-8f3f-4326-d249-09163c755b72"
      },
      "outputs": [
        {
          "name": "stdout",
          "output_type": "stream",
          "text": [
            "Requirement already satisfied: wordcloud in c:\\users\\user\\anaconda3\\lib\\site-packages (1.9.2)\n",
            "Requirement already satisfied: pillow in c:\\users\\user\\anaconda3\\lib\\site-packages (from wordcloud) (9.4.0)\n",
            "Requirement already satisfied: matplotlib in c:\\users\\user\\anaconda3\\lib\\site-packages (from wordcloud) (3.7.0)\n",
            "Requirement already satisfied: numpy>=1.6.1 in c:\\users\\user\\anaconda3\\lib\\site-packages (from wordcloud) (1.23.5)\n",
            "Requirement already satisfied: packaging>=20.0 in c:\\users\\user\\anaconda3\\lib\\site-packages (from matplotlib->wordcloud) (22.0)\n",
            "Requirement already satisfied: kiwisolver>=1.0.1 in c:\\users\\user\\anaconda3\\lib\\site-packages (from matplotlib->wordcloud) (1.4.4)\n",
            "Requirement already satisfied: fonttools>=4.22.0 in c:\\users\\user\\anaconda3\\lib\\site-packages (from matplotlib->wordcloud) (4.25.0)\n",
            "Requirement already satisfied: pyparsing>=2.3.1 in c:\\users\\user\\anaconda3\\lib\\site-packages (from matplotlib->wordcloud) (3.0.9)\n",
            "Requirement already satisfied: python-dateutil>=2.7 in c:\\users\\user\\anaconda3\\lib\\site-packages (from matplotlib->wordcloud) (2.8.2)\n",
            "Requirement already satisfied: cycler>=0.10 in c:\\users\\user\\anaconda3\\lib\\site-packages (from matplotlib->wordcloud) (0.11.0)\n",
            "Requirement already satisfied: contourpy>=1.0.1 in c:\\users\\user\\anaconda3\\lib\\site-packages (from matplotlib->wordcloud) (1.0.5)\n",
            "Requirement already satisfied: six>=1.5 in c:\\users\\user\\anaconda3\\lib\\site-packages (from python-dateutil>=2.7->matplotlib->wordcloud) (1.16.0)\n",
            "Note: you may need to restart the kernel to use updated packages.\n"
          ]
        }
      ],
      "source": [
        "pip install wordcloud"
      ]
    },
    {
      "cell_type": "code",
      "execution_count": null,
      "id": "d1a1df30",
      "metadata": {
        "id": "d1a1df30"
      },
      "outputs": [],
      "source": [
        "import pandas as pd\n",
        "import numpy as np\n",
        "import seaborn as sns\n",
        "import matplotlib.pyplot as plt\n"
      ]
    },
    {
      "cell_type": "code",
      "execution_count": null,
      "id": "f2bf513d",
      "metadata": {
        "id": "f2bf513d"
      },
      "outputs": [],
      "source": [
        "Data= pd.read_csv(r\"C:\\Users\\user\\Desktop\\NLP_project\\Restaurant_Reviews.tsv\",sep='\\t', quoting=3)"
      ]
    },
    {
      "cell_type": "code",
      "execution_count": null,
      "id": "2c8be137",
      "metadata": {
        "id": "2c8be137",
        "outputId": "c45d3a6e-ee9a-4850-e9a3-55af71221611"
      },
      "outputs": [
        {
          "data": {
            "text/html": [
              "<div>\n",
              "<style scoped>\n",
              "    .dataframe tbody tr th:only-of-type {\n",
              "        vertical-align: middle;\n",
              "    }\n",
              "\n",
              "    .dataframe tbody tr th {\n",
              "        vertical-align: top;\n",
              "    }\n",
              "\n",
              "    .dataframe thead th {\n",
              "        text-align: right;\n",
              "    }\n",
              "</style>\n",
              "<table border=\"1\" class=\"dataframe\">\n",
              "  <thead>\n",
              "    <tr style=\"text-align: right;\">\n",
              "      <th></th>\n",
              "      <th>Review</th>\n",
              "      <th>Liked</th>\n",
              "    </tr>\n",
              "  </thead>\n",
              "  <tbody>\n",
              "    <tr>\n",
              "      <th>0</th>\n",
              "      <td>Wow... Loved this place.</td>\n",
              "      <td>1</td>\n",
              "    </tr>\n",
              "    <tr>\n",
              "      <th>1</th>\n",
              "      <td>Crust is not good.</td>\n",
              "      <td>0</td>\n",
              "    </tr>\n",
              "    <tr>\n",
              "      <th>2</th>\n",
              "      <td>Not tasty and the texture was just nasty.</td>\n",
              "      <td>0</td>\n",
              "    </tr>\n",
              "    <tr>\n",
              "      <th>3</th>\n",
              "      <td>Stopped by during the late May bank holiday of...</td>\n",
              "      <td>1</td>\n",
              "    </tr>\n",
              "    <tr>\n",
              "      <th>4</th>\n",
              "      <td>The selection on the menu was great and so wer...</td>\n",
              "      <td>1</td>\n",
              "    </tr>\n",
              "    <tr>\n",
              "      <th>...</th>\n",
              "      <td>...</td>\n",
              "      <td>...</td>\n",
              "    </tr>\n",
              "    <tr>\n",
              "      <th>995</th>\n",
              "      <td>I think food should have flavor and texture an...</td>\n",
              "      <td>0</td>\n",
              "    </tr>\n",
              "    <tr>\n",
              "      <th>996</th>\n",
              "      <td>Appetite instantly gone.</td>\n",
              "      <td>0</td>\n",
              "    </tr>\n",
              "    <tr>\n",
              "      <th>997</th>\n",
              "      <td>Overall I was not impressed and would not go b...</td>\n",
              "      <td>0</td>\n",
              "    </tr>\n",
              "    <tr>\n",
              "      <th>998</th>\n",
              "      <td>The whole experience was underwhelming, and I ...</td>\n",
              "      <td>0</td>\n",
              "    </tr>\n",
              "    <tr>\n",
              "      <th>999</th>\n",
              "      <td>Then, as if I hadn't wasted enough of my life ...</td>\n",
              "      <td>0</td>\n",
              "    </tr>\n",
              "  </tbody>\n",
              "</table>\n",
              "<p>1000 rows × 2 columns</p>\n",
              "</div>"
            ],
            "text/plain": [
              "                                                Review  Liked\n",
              "0                             Wow... Loved this place.      1\n",
              "1                                   Crust is not good.      0\n",
              "2            Not tasty and the texture was just nasty.      0\n",
              "3    Stopped by during the late May bank holiday of...      1\n",
              "4    The selection on the menu was great and so wer...      1\n",
              "..                                                 ...    ...\n",
              "995  I think food should have flavor and texture an...      0\n",
              "996                           Appetite instantly gone.      0\n",
              "997  Overall I was not impressed and would not go b...      0\n",
              "998  The whole experience was underwhelming, and I ...      0\n",
              "999  Then, as if I hadn't wasted enough of my life ...      0\n",
              "\n",
              "[1000 rows x 2 columns]"
            ]
          },
          "execution_count": 4,
          "metadata": {},
          "output_type": "execute_result"
        }
      ],
      "source": [
        "Data"
      ]
    },
    {
      "cell_type": "markdown",
      "id": "94a95910",
      "metadata": {
        "id": "94a95910"
      },
      "source": [
        "1= pos\n",
        "0= neg"
      ]
    },
    {
      "cell_type": "code",
      "execution_count": null,
      "id": "846df112",
      "metadata": {
        "id": "846df112",
        "outputId": "b2a849f3-f6f6-4131-a021-163124e42ae7"
      },
      "outputs": [
        {
          "name": "stdout",
          "output_type": "stream",
          "text": [
            "<class 'pandas.core.frame.DataFrame'>\n",
            "RangeIndex: 1000 entries, 0 to 999\n",
            "Data columns (total 2 columns):\n",
            " #   Column  Non-Null Count  Dtype \n",
            "---  ------  --------------  ----- \n",
            " 0   Review  1000 non-null   object\n",
            " 1   Liked   1000 non-null   int64 \n",
            "dtypes: int64(1), object(1)\n",
            "memory usage: 15.8+ KB\n"
          ]
        }
      ],
      "source": [
        "Data.info()"
      ]
    },
    {
      "cell_type": "code",
      "execution_count": null,
      "id": "61fb806b",
      "metadata": {
        "id": "61fb806b"
      },
      "outputs": [],
      "source": [
        "from nltk.corpus import opinion_lexicon"
      ]
    },
    {
      "cell_type": "code",
      "execution_count": null,
      "id": "1663dccb",
      "metadata": {
        "id": "1663dccb",
        "outputId": "4715f8b8-b852-43a2-fc2c-c28c80d5fb11"
      },
      "outputs": [
        {
          "name": "stdout",
          "output_type": "stream",
          "text": [
            "Negative words found in the reviews:\n",
            "outrageously, overwhelmed, slow, bloody, strike, lacking, petty, disaster, smells, dirty, struggle, hard, stupid, sucked, ignore, mediocre, falling, disappointed, wildly, unbelievable, ache, dead, worse, wound, smoke, sharply, pan, pale, lack, sever, insulted, insanely, bad, crazy, trap, poorly, sorely, break, bug, downside, sub-par, poor, monster, spotty, hate, lacked, allergy, rude, pricey, problem, ripped, die, awkward, mistake, petrified, horrible, miss, appalling, cheap, fails, drastically, angry, atrocious, tragedy, sucker, cheated, wasted, frozen, attack, disagree, disappointing, awful, blame, complaints, wrong, negligent, disappointment, nasty, wasting, fear, smelled, unhealthy, mess, burned, raving, sick, shocked, fuzzy, sad, cold, excuse, disgusted, lemon, limited, joke, hated, overpriced, bland, hell, drunk, stinks, complain, missed, fell, dripping, terrible, fucking, flair, waste, freaking, damn, unbelievably, worst, sour, inconsiderate, vomited, suffers, doubt, freezing, concern, weird, dark, fried, lost, needless, bother, unfortunately, greedy, tepid, refused, killer, breaks, drag, fail\n"
          ]
        }
      ],
      "source": [
        "# Bing Liu Opinion Lexicon\n",
        "negative_lexicon = opinion_lexicon.negative()\n",
        "\n",
        "# negative_lexicon\n",
        "negative_words = set()\n",
        "for review in Data['Review']:\n",
        "    words = review.split()\n",
        "    for word in words:\n",
        "        if word.lower() in negative_lexicon:\n",
        "            negative_words.add(word.lower())\n",
        "\n",
        "print(\"Negative words found in the reviews:\")\n",
        "print(\", \".join(negative_words))"
      ]
    },
    {
      "cell_type": "markdown",
      "id": "ac19d503",
      "metadata": {
        "id": "ac19d503"
      },
      "source": [
        "Exploring Data"
      ]
    },
    {
      "cell_type": "code",
      "execution_count": null,
      "id": "68f563e8",
      "metadata": {
        "id": "68f563e8",
        "outputId": "4935c31e-a5ef-410d-8d97-d3dcf7bacc3f"
      },
      "outputs": [
        {
          "data": {
            "text/plain": [
              "1    500\n",
              "0    500\n",
              "Name: Liked, dtype: int64"
            ]
          },
          "execution_count": 17,
          "metadata": {},
          "output_type": "execute_result"
        }
      ],
      "source": [
        "Data['Liked'].value_counts() "
      ]
    },
    {
      "cell_type": "code",
      "execution_count": null,
      "id": "b1391504",
      "metadata": {
        "id": "b1391504",
        "outputId": "eeeb3a13-3c71-4ac4-aee5-9054359b8f8f"
      },
      "outputs": [
        {
          "data": {
            "text/plain": [
              "149"
            ]
          },
          "execution_count": 18,
          "metadata": {},
          "output_type": "execute_result"
        }
      ],
      "source": [
        "Data['Review'].apply(len).max()"
      ]
    },
    {
      "cell_type": "markdown",
      "id": "9773430b",
      "metadata": {
        "id": "9773430b"
      },
      "source": [
        "**Visualizing Data**"
      ]
    },
    {
      "cell_type": "code",
      "execution_count": null,
      "id": "36566a97",
      "metadata": {
        "id": "36566a97",
        "outputId": "200a0160-e526-4aa4-97f5-36f521f2bb3f"
      },
      "outputs": [
        {
          "data": {
            "image/png": "[encoded data removed]",
            "text/plain": [
              "<Figure size 640x480 with 1 Axes>"
            ]
          },
          "metadata": {},
          "output_type": "display_data"
        }
      ],
      "source": [
        "import seaborn as sns\n",
        "import matplotlib.pyplot as plt\n",
        "\n",
        "# Define the colors for the pie chart\n",
        "colors = ['#00BFFF', '#FF66C4']  # Blue and Pink\n",
        "\n",
        "# Create a pie chart of the \"Liked\" column\n",
        "plt.pie(Data['Liked'].value_counts(), labels=['Negative', 'Positive'], colors=colors, autopct='%1.1f%%', startangle=90)\n",
        "\n",
        "# Set the title of the plot\n",
        "plt.title('Visualize the Distribution of the Data')\n",
        "\n",
        "# Show the plot\n",
        "plt.show()\n"
      ]
    },
    {
      "cell_type": "markdown",
      "id": "908cfc1d",
      "metadata": {
        "id": "908cfc1d"
      },
      "source": [
        "*Visualizing Negative and Positive Words*"
      ]
    },
    {
      "cell_type": "code",
      "execution_count": null,
      "id": "4407ebcb",
      "metadata": {
        "id": "4407ebcb"
      },
      "outputs": [],
      "source": [
        "import pandas as pd\n",
        "import nltk\n",
        "from nltk.sentiment import SentimentIntensityAnalyzer\n",
        "from wordcloud import WordCloud\n",
        "import matplotlib.pyplot as plt"
      ]
    },
    {
      "cell_type": "code",
      "execution_count": null,
      "id": "029ecf0e",
      "metadata": {
        "id": "029ecf0e",
        "outputId": "783bc72c-9c7b-4ae1-8cf9-de4bb28d0b12"
      },
      "outputs": [
        {
          "name": "stderr",
          "output_type": "stream",
          "text": [
            "[nltk_data] Downloading package vader_lexicon to\n",
            "[nltk_data]     C:\\Users\\user\\AppData\\Roaming\\nltk_data...\n",
            "[nltk_data]   Package vader_lexicon is already up-to-date!\n"
          ]
        }
      ],
      "source": [
        "# Loading the negative word list\n",
        "nltk.download('vader_lexicon')\n",
        "sia = SentimentIntensityAnalyzer()\n",
        "neg_words = set()\n",
        "for word, score in sia.lexicon.items():\n",
        "    if score < 0:\n",
        "        neg_words.add(word)\n",
        "        \n",
        "# Extracting negative words\n",
        "negative_words = []\n",
        "for review in Data['Review']:\n",
        "    words = review.lower().split()\n",
        "    for i, word in enumerate(words):\n",
        "        if word in neg_words:\n",
        "            if i > 0 and words[i-1] == 'not':\n",
        "                negative_words.append('not ' + word)\n",
        "            else:\n",
        "                negative_words.append(word)"
      ]
    },
    {
      "cell_type": "code",
      "execution_count": null,
      "id": "312837d6",
      "metadata": {
        "id": "312837d6"
      },
      "outputs": [],
      "source": [
        "# Loading the positive word list\n",
        "pos_words = set()\n",
        "for word, score in sia.lexicon.items():\n",
        "    if score > 0:\n",
        "        pos_words.add(word)\n",
        "\n",
        "# Extracting positive words\n",
        "positive_words = []\n",
        "for review in Data['Review']:\n",
        "    words = review.lower().split()\n",
        "    for i, word in enumerate(words):\n",
        "        if word in pos_words:\n",
        "            positive_words.append(word)"
      ]
    },
    {
      "cell_type": "code",
      "execution_count": null,
      "id": "f2a2a426",
      "metadata": {
        "id": "f2a2a426",
        "outputId": "26c28a63-3117-4db9-b537-27987b7bd77c"
      },
      "outputs": [
        {
          "data": {
            "image/png": "[encoded data removed]",
            "text/plain": [
              "<Figure size 800x400 with 2 Axes>"
            ]
          },
          "metadata": {},
          "output_type": "display_data"
        }
      ],
      "source": [
        "# Generate WordClouds for positive and negative words\n",
        "wordcloud_pos = WordCloud(width=400, height=400, background_color='white', stopwords=set(), min_font_size=8)\n",
        "wordcloud_neg = WordCloud(width=400, height=400, background_color='black', stopwords=set(), min_font_size=8)\n",
        "\n",
        "wordcloud_pos.generate_from_text(\" \".join(positive_words))\n",
        "wordcloud_neg.generate_from_text(\" \".join(negative_words))\n",
        "\n",
        "# Plot WordClouds\n",
        "fig, (ax1, ax2) = plt.subplots(1, 2, figsize=(8, 4), facecolor=None)\n",
        "ax1.imshow(wordcloud_pos)\n",
        "ax1.axis(\"off\")\n",
        "ax1.set_title(\"Positive Words\")\n",
        "\n",
        "ax2.imshow(wordcloud_neg)\n",
        "ax2.axis(\"off\")\n",
        "ax2.set_title(\"Negative Words\")\n",
        "\n",
        "plt.show()"
      ]
    },
    {
      "cell_type": "code",
      "execution_count": null,
      "id": "35e5f813",
      "metadata": {
        "id": "35e5f813",
        "outputId": "4fb89a5c-7a07-4faa-ccfb-1403aa34f23a"
      },
      "outputs": [
        {
          "data": {
            "image/png": "[encoded data removed]",
            "text/plain": [
              "<Figure size 600x300 with 2 Axes>"
            ]
          },
          "metadata": {},
          "output_type": "display_data"
        }
      ],
      "source": [
        "import seaborn as sns\n",
        "import matplotlib.pyplot as plt\n",
        "\n",
        "# Create a new column to store the length of each review\n",
        "Data['Review Length'] = Data['Review'].apply(len)\n",
        "\n",
        "# Create a FacetGrid object to separate the data based on the 'Liked' column\n",
        "g = sns.FacetGrid(Data, col='Liked')\n",
        "\n",
        "# Use the FacetGrid object to plot a histogram of the 'Review Length' column for each value of 'Liked'\n",
        "g.map(plt.hist, 'Review Length', bins=20)\n",
        "\n",
        "# Set the title of the plot\n",
        "plt.title('Distribution of Review Length by Liked Status')\n",
        "\n",
        "# Show the plot\n",
        "plt.show()"
      ]
    },
    {
      "cell_type": "code",
      "execution_count": null,
      "id": "0783ba8b",
      "metadata": {
        "id": "0783ba8b",
        "outputId": "8258a783-caa5-419d-90b3-f3bb91984c90"
      },
      "outputs": [
        {
          "name": "stdout",
          "output_type": "stream",
          "text": [
            "Average length of positive reviews: 55.88\n",
            "Average length of negative reviews: 60.75\n"
          ]
        }
      ],
      "source": [
        "# Calculate the average length of positive reviews\n",
        "avg_length_positive = Data.loc[Data['Liked'] == 1, 'Review Length'].mean()\n",
        "print('Average length of positive reviews:', avg_length_positive)\n",
        "\n",
        "# Calculate the average length of negative reviews\n",
        "avg_length_negative = Data.loc[Data['Liked'] == 0, 'Review Length'].mean()\n",
        "print('Average length of negative reviews:', avg_length_negative)"
      ]
    },
    {
      "cell_type": "markdown",
      "id": "07e8d0b2",
      "metadata": {
        "id": "07e8d0b2"
      },
      "source": [
        "pre-processing Data NLTK "
      ]
    },
    {
      "cell_type": "code",
      "execution_count": null,
      "id": "1e812dc0",
      "metadata": {
        "id": "1e812dc0",
        "outputId": "bdd8d99b-5a58-4991-b4af-4e4495585095"
      },
      "outputs": [
        {
          "data": {
            "text/plain": [
              "'Wow... Loved this place.'"
            ]
          },
          "execution_count": 74,
          "metadata": {},
          "output_type": "execute_result"
        }
      ],
      "source": [
        "Data['Review'][0]"
      ]
    },
    {
      "cell_type": "code",
      "execution_count": null,
      "id": "41dd6734",
      "metadata": {
        "id": "41dd6734",
        "outputId": "20dab8c0-d9e7-4e51-ad75-15a68d5555d6"
      },
      "outputs": [
        {
          "name": "stdout",
          "output_type": "stream",
          "text": [
            "showing info https://raw.githubusercontent.com/nltk/nltk_data/gh-pages/index.xml\n"
          ]
        },
        {
          "data": {
            "text/plain": [
              "True"
            ]
          },
          "execution_count": 75,
          "metadata": {},
          "output_type": "execute_result"
        }
      ],
      "source": [
        "import nltk\n",
        "nltk.download()"
      ]
    },
    {
      "cell_type": "code",
      "execution_count": null,
      "id": "f27e4769",
      "metadata": {
        "id": "f27e4769"
      },
      "outputs": [],
      "source": [
        "from nltk.corpus import stopwords"
      ]
    },
    {
      "cell_type": "code",
      "execution_count": null,
      "id": "ad069a61",
      "metadata": {
        "id": "ad069a61",
        "outputId": "49f1bca1-e068-497c-b2e6-94ac338d51e1"
      },
      "outputs": [
        {
          "name": "stderr",
          "output_type": "stream",
          "text": [
            "[nltk_data] Downloading package stopwords to\n",
            "[nltk_data]     C:\\Users\\user\\AppData\\Roaming\\nltk_data...\n",
            "[nltk_data]   Package stopwords is already up-to-date!\n"
          ]
        },
        {
          "data": {
            "text/plain": [
              "True"
            ]
          },
          "execution_count": 77,
          "metadata": {},
          "output_type": "execute_result"
        }
      ],
      "source": [
        " nltk.download('stopwords')"
      ]
    },
    {
      "cell_type": "code",
      "execution_count": null,
      "id": "3e1c2463",
      "metadata": {
        "id": "3e1c2463",
        "outputId": "dc018244-50ed-44f9-e974-afc8ef8763b1"
      },
      "outputs": [
        {
          "name": "stdout",
          "output_type": "stream",
          "text": [
            "['i', 'me', 'my', 'myself', 'we', 'our', 'ours', 'ourselves', 'you', \"you're\", \"you've\", \"you'll\", \"you'd\", 'your', 'yours', 'yourself', 'yourselves', 'he', 'him', 'his', 'himself', 'she', \"she's\", 'her', 'hers', 'herself', 'it', \"it's\", 'its', 'itself', 'they', 'them', 'their', 'theirs', 'themselves', 'what', 'which', 'who', 'whom', 'this', 'that', \"that'll\", 'these', 'those', 'am', 'is', 'are', 'was', 'were', 'be', 'been', 'being', 'have', 'has', 'had', 'having', 'do', 'does', 'did', 'doing', 'a', 'an', 'the', 'and', 'but', 'if', 'or', 'because', 'as', 'until', 'while', 'of', 'at', 'by', 'for', 'with', 'about', 'against', 'between', 'into', 'through', 'during', 'before', 'after', 'above', 'below', 'to', 'from', 'up', 'down', 'in', 'out', 'on', 'off', 'over', 'under', 'again', 'further', 'then', 'once', 'here', 'there', 'when', 'where', 'why', 'how', 'all', 'any', 'both', 'each', 'few', 'more', 'most', 'other', 'some', 'such', 'no', 'nor', 'not', 'only', 'own', 'same', 'so', 'than', 'too', 'very', 's', 't', 'can', 'will', 'just', 'don', \"don't\", 'should', \"should've\", 'now', 'd', 'll', 'm', 'o', 're', 've', 'y', 'ain', 'aren', \"aren't\", 'couldn', \"couldn't\", 'didn', \"didn't\", 'doesn', \"doesn't\", 'hadn', \"hadn't\", 'hasn', \"hasn't\", 'haven', \"haven't\", 'isn', \"isn't\", 'ma', 'mightn', \"mightn't\", 'mustn', \"mustn't\", 'needn', \"needn't\", 'shan', \"shan't\", 'shouldn', \"shouldn't\", 'wasn', \"wasn't\", 'weren', \"weren't\", 'won', \"won't\", 'wouldn', \"wouldn't\"]\n"
          ]
        }
      ],
      "source": [
        "print(stopwords.words('english'))"
      ]
    },
    {
      "cell_type": "code",
      "execution_count": null,
      "id": "63b31f4e",
      "metadata": {
        "id": "63b31f4e",
        "outputId": "13bfe130-6cef-4eea-ca13-d85109fb1eaf"
      },
      "outputs": [
        {
          "data": {
            "text/plain": [
              "'Wow... Loved this place.'"
            ]
          },
          "execution_count": 79,
          "metadata": {},
          "output_type": "execute_result"
        }
      ],
      "source": [
        "s = Data['Review'][0]\n",
        "s"
      ]
    },
    {
      "cell_type": "code",
      "execution_count": null,
      "id": "5e8456f0",
      "metadata": {
        "id": "5e8456f0",
        "outputId": "fb64fa42-c249-4bd0-92db-dfed843d1d2c"
      },
      "outputs": [
        {
          "data": {
            "text/plain": [
              "'Wow    Loved this place '"
            ]
          },
          "execution_count": 80,
          "metadata": {},
          "output_type": "execute_result"
        }
      ],
      "source": [
        "#Regular expressions\n",
        "import re\n",
        "s = re.sub('[^a-zA-Z0-9]',' ', s) #We delete everything other than numbers and letters\n",
        "s"
      ]
    },
    {
      "cell_type": "code",
      "execution_count": null,
      "id": "894eb5e7",
      "metadata": {
        "id": "894eb5e7",
        "outputId": "b4f408f4-403d-43c8-e5b6-ffdc6bcbd14e"
      },
      "outputs": [
        {
          "data": {
            "text/plain": [
              "'wow    loved this place '"
            ]
          },
          "execution_count": 81,
          "metadata": {},
          "output_type": "execute_result"
        }
      ],
      "source": [
        "s = s.lower()\n",
        "s"
      ]
    },
    {
      "cell_type": "code",
      "execution_count": null,
      "id": "694d1329",
      "metadata": {
        "id": "694d1329",
        "outputId": "a06c0961-673e-4ce2-868f-97660c3a7e65"
      },
      "outputs": [
        {
          "data": {
            "text/plain": [
              "['wow', 'loved', 'this', 'place']"
            ]
          },
          "execution_count": 82,
          "metadata": {},
          "output_type": "execute_result"
        }
      ],
      "source": [
        "s = s.split()\n",
        "s"
      ]
    },
    {
      "cell_type": "code",
      "execution_count": null,
      "id": "04875dd2",
      "metadata": {
        "id": "04875dd2",
        "outputId": "80b2bf61-5d27-4789-a586-3444824a0746"
      },
      "outputs": [
        {
          "data": {
            "text/plain": [
              "['wow', 'loved', 'place']"
            ]
          },
          "execution_count": 83,
          "metadata": {},
          "output_type": "execute_result"
        }
      ],
      "source": [
        "temp = []\n",
        "\n",
        "for word in s :\n",
        "    if word not in stopwords.words('english'):\n",
        "        temp.append(word)\n",
        "temp\n",
        "#delete stopwords"
      ]
    },
    {
      "cell_type": "code",
      "execution_count": null,
      "id": "15842276",
      "metadata": {
        "id": "15842276",
        "outputId": "93a8e184-c582-4e60-c879-d49424b96960"
      },
      "outputs": [
        {
          "data": {
            "text/plain": [
              "['wow', 'loved', 'place']"
            ]
          },
          "execution_count": 84,
          "metadata": {},
          "output_type": "execute_result"
        }
      ],
      "source": [
        "#list\n",
        " \n",
        "[word for word in s if word not in  stopwords.words('english') ]"
      ]
    },
    {
      "cell_type": "code",
      "execution_count": null,
      "id": "e97fa1d0",
      "metadata": {
        "id": "e97fa1d0",
        "outputId": "dbf098b1-6a74-41a1-c78f-59deb083f133"
      },
      "outputs": [
        {
          "data": {
            "text/plain": [
              "'wow loved place'"
            ]
          },
          "execution_count": 85,
          "metadata": {},
          "output_type": "execute_result"
        }
      ],
      "source": [
        "s= ' '.join(temp)\n",
        "s"
      ]
    },
    {
      "cell_type": "code",
      "execution_count": null,
      "id": "3b3d169e",
      "metadata": {
        "id": "3b3d169e",
        "outputId": "603f9063-2567-4338-8370-7ba24302ec19"
      },
      "outputs": [
        {
          "data": {
            "text/plain": [
              "'wow loved plac'"
            ]
          },
          "execution_count": 86,
          "metadata": {},
          "output_type": "execute_result"
        }
      ],
      "source": [
        "#Stemmers\n",
        "porter = nltk.PorterStemmer()\n",
        "lancaster = nltk.LancasterStemmer()\n",
        "porter.stem(s)\n"
      ]
    },
    {
      "cell_type": "code",
      "execution_count": null,
      "id": "de0e2424",
      "metadata": {
        "id": "de0e2424"
      },
      "outputs": [],
      "source": [
        "from sklearn.feature_extraction.text import CountVectorizer"
      ]
    },
    {
      "cell_type": "code",
      "execution_count": null,
      "id": "a77d9246",
      "metadata": {
        "id": "a77d9246"
      },
      "outputs": [],
      "source": [
        "vectorizer = CountVectorizer()"
      ]
    },
    {
      "cell_type": "code",
      "execution_count": null,
      "id": "e919520c",
      "metadata": {
        "id": "e919520c",
        "outputId": "424e7c32-ccaa-4eb2-f992-21f59a19763b"
      },
      "outputs": [
        {
          "data": {
            "text/plain": [
              "array([[0, 0, 1],\n",
              "       [1, 0, 0],\n",
              "       [0, 1, 0]], dtype=int64)"
            ]
          },
          "execution_count": 89,
          "metadata": {},
          "output_type": "execute_result"
        }
      ],
      "source": [
        "vectorizer.fit_transform(s.split()).toarray()\n"
      ]
    },
    {
      "cell_type": "code",
      "execution_count": null,
      "id": "477b2b5b",
      "metadata": {
        "id": "477b2b5b",
        "outputId": "11835948-e0c2-4a04-ef30-09d4aa8eb8ba"
      },
      "outputs": [
        {
          "data": {
            "text/plain": [
              "['wow loved plac',\n",
              " 'crust good',\n",
              " 'tasty texture nasti',\n",
              " 'stopped late may bank holiday rick steve recommendation lov',\n",
              " 'selection menu great pric',\n",
              " 'getting angry want damn pho',\n",
              " 'honeslty taste fresh',\n",
              " 'potatoes like rubber could tell made ahead time kept warm',\n",
              " 'fries great',\n",
              " 'great touch',\n",
              " 'service prompt',\n",
              " 'would go back',\n",
              " 'cashier care ever say still ended wayyy overpr',\n",
              " 'tried cape cod ravoli chicken cranberry mmmm',\n",
              " 'disgusted pretty sure human hair',\n",
              " 'shocked signs indicate cash',\n",
              " 'highly recommend',\n",
              " 'waitress little slow servic',\n",
              " 'place worth time let alone vega',\n",
              " 'like',\n",
              " 'burrittos blah',\n",
              " 'food amaz',\n",
              " 'service also cut',\n",
              " 'could care less interior beauti',\n",
              " 'perform',\n",
              " 'right red velvet cake ohhh stuff good',\n",
              " 'never brought salad ask',\n",
              " 'hole wall great mexican street tacos friendly staff',\n",
              " 'took hour get food 4 tables restaurant food luke warm sever running around like totally overwhelm',\n",
              " 'worst salmon sashimi',\n",
              " 'also combos like burger fries beer 23 decent d',\n",
              " 'like final blow',\n",
              " 'found place accident could happi',\n",
              " 'seems like good quick place grab bite familiar pub food favor look elsewher',\n",
              " 'overall like place lot',\n",
              " 'redeeming quality restaurant inexpens',\n",
              " 'ample portions good pric',\n",
              " 'poor service waiter made feel like stupid every time came t',\n",
              " 'first visit hiro delight',\n",
              " 'service suck',\n",
              " 'shrimp tender moist',\n",
              " 'deal good enough would drag establish',\n",
              " 'hard judge whether sides good grossed melted styrofoam want eat fear getting sick',\n",
              " 'positive note server attentive provided great servic',\n",
              " 'frozen pucks disgust worst people behind regist',\n",
              " 'thing like prime rib dessert sect',\n",
              " 'bad food damn gener',\n",
              " 'burger good beef cooked right',\n",
              " 'want sandwich go firehous',\n",
              " 'side greek salad greek dressing tasty pita hummus refresh',\n",
              " 'ordered duck rare pink tender inside nice char outsid',\n",
              " 'came running us realized husband left sunglasses t',\n",
              " 'chow mein good',\n",
              " 'horrible attitudes towards customers talk one customers enjoy food',\n",
              " 'portion hug',\n",
              " 'loved friendly servers great food wonderful imaginative menu',\n",
              " 'heart attack grill downtown vegas absolutely flat lined excuse restaur',\n",
              " 'much seafood like 5 strings pasta bottom',\n",
              " 'salad right amount sauce power scallop perfectly cook',\n",
              " 'ripped banana ripped petrified tasteless',\n",
              " 'least think refill water struggle wave 10 minut',\n",
              " 'place receives stars appet',\n",
              " 'cocktails handmade delici',\n",
              " 'definitely go back',\n",
              " 'glad found plac',\n",
              " 'great food service huge portions give military discount',\n",
              " 'always great time dos gringo',\n",
              " 'update went back second time still amaz',\n",
              " 'got food apparently never heard salt batter fish chewi',\n",
              " 'great way finish great',\n",
              " 'deal included 5 tastings 2 drinks jeff went beyond expect',\n",
              " 'really really good rice tim',\n",
              " 'service meh',\n",
              " 'took 30 min get milkshake nothing chocolate milk',\n",
              " 'guess known place would suck inside excalibur use common sens',\n",
              " 'scallop dish quite appalling value wel',\n",
              " '2 times bad customer servic',\n",
              " 'sweet potato fries good seasoned wel',\n",
              " 'today second time lunch buffet pretty good',\n",
              " 'much good food vegas feel cheated wasting eating opportunity going rice compani',\n",
              " 'coming like experiencing underwhelming relationship parties wait person ask break',\n",
              " 'walked place smelled like old grease trap 2 others ',\n",
              " 'turkey roast beef bland',\n",
              " 'place',\n",
              " 'pan cakes everyone raving taste like sugary disaster tailored palate six year old',\n",
              " 'love pho spring rolls oh yummy tri',\n",
              " 'poor batter meat ratio made chicken tenders unsatisfi',\n",
              " 'say food amaz',\n",
              " 'omelets di',\n",
              " 'everything fresh delici',\n",
              " 'summary largely disappointing dining experi',\n",
              " 'like really sexy party mouth outrageously flirting hottest person parti',\n",
              " 'never hard rock casino never ever step forward',\n",
              " 'best breakfast buffet',\n",
              " 'say bye bye tip ladi',\n",
              " 'never go',\n",
              " 'back',\n",
              " 'food arrived quickli',\n",
              " 'good',\n",
              " 'side cafe serves really good food',\n",
              " 'server fantastic found wife loves roasted garlic bone marrow added extra meal another marrow go',\n",
              " 'good thing waiter helpful kept bloddy mary com',\n",
              " 'best buffet town price cannot beat',\n",
              " 'loved mussels cooked wine reduction duck tender potato dishes delici',\n",
              " 'one better buffet',\n",
              " 'went tigerlilly fantastic afternoon',\n",
              " 'food delicious bartender attentive personable got great d',\n",
              " 'ambience wonderful music play',\n",
              " 'go back next trip',\n",
              " 'sooooo good',\n",
              " 'real sushi lovers let honest yama good',\n",
              " 'least 40min passed us ordering food arriving busi',\n",
              " 'really fantastic thai restaurant definitely worth visit',\n",
              " 'nice spicy tend',\n",
              " 'good pric',\n",
              " 'check',\n",
              " 'pretty gross',\n",
              " 'better atmospher',\n",
              " 'kind hard mess steak',\n",
              " 'although much liked look sound place actual experience bit disappoint',\n",
              " 'know place managed served blandest food ever eaten preparing indian cuisin',\n",
              " 'worst service boot least worri',\n",
              " 'service fine waitress friendli',\n",
              " 'guys steaks steak loving son steak best worst places said best steak ever eaten',\n",
              " 'thought venture away get good sushi place really hit spot night',\n",
              " 'host staff lack better word bitch',\n",
              " 'bland liking place number reasons want waste time bad reviewing leav',\n",
              " 'phenomenal food service ambi',\n",
              " 'return',\n",
              " 'definitely worth venturing strip pork belly return next time vega',\n",
              " 'place way overpriced mediocre food',\n",
              " 'penne vodka excel',\n",
              " 'good selection food including massive meatloaf sandwich crispy chicken wrap delish tuna melt tasty burg',\n",
              " 'management rud',\n",
              " 'delicious nyc bagels good selections cream cheese real lox capers even',\n",
              " 'great subway fact good come every subway meet expect',\n",
              " 'seriously solid breakfast',\n",
              " 'one best bars food vega',\n",
              " 'extremely rude really many restaurants would love dine weekend vega',\n",
              " 'drink never empty made really great menu suggest',\n",
              " '',\n",
              " 'waiter helpful friendly rarely checked u',\n",
              " 'husband ate lunch disappointed food servic',\n",
              " 'red curry much bamboo shoots tasti',\n",
              " 'nice blanket moz top feel like done cover subpar food',\n",
              " 'bathrooms clean place well decor',\n",
              " 'menu always changing food quality going service extremely slow',\n",
              " 'service little slow considering served 3 people servers food coming slow pac',\n",
              " 'give 2 thumb',\n",
              " 'watched waiter pay lot attention tables ignore u',\n",
              " 'fianc came middle day greeted seated right away',\n",
              " 'great restaurant mandalay bay',\n",
              " 'waited forty five minutes vain',\n",
              " 'crostini came salad stal',\n",
              " 'highlights great quality nigiri',\n",
              " 'staff friendly joint always clean',\n",
              " 'different cut piece day still wonderful tender well well flavor',\n",
              " 'ordered voodoo pasta first time really excellent pasta since going gluten free several years ago',\n",
              " 'place good',\n",
              " 'unfortunately must hit bakery leftover day everything ordered stal',\n",
              " 'came back today since relocated still impress',\n",
              " 'seated immedi',\n",
              " 'menu diverse reasonably pr',\n",
              " 'avoid cost',\n",
              " 'restaurant always full never wait',\n",
              " 'delici',\n",
              " 'place hands one best places eat phoenix metro area',\n",
              " 'go looking good food',\n",
              " 'never treated bad',\n",
              " 'bacon hella salti',\n",
              " 'also ordered spinach avocado salad ingredients sad dressing literally zero tast',\n",
              " 'really vegas fine dining used right menus handed ladies prices list',\n",
              " 'waitresses friendli',\n",
              " 'lordy khao soi dish missed curry lov',\n",
              " 'everything menu terrific also thrilled made amazing accommodations vegetarian daught',\n",
              " 'perhaps caught night judging reviews inspired go back',\n",
              " 'service leaves lot desir',\n",
              " 'atmosphere modern hip maintaining touch cozi',\n",
              " 'weekly haunt definitely place come back everi',\n",
              " 'literally sat 20 minutes one asking take ord',\n",
              " 'burger absolutely flavor meat totally bland burger overcooked charcoal flavor',\n",
              " 'also decided send back waitress looked like verge heart attack',\n",
              " 'dressed treated rud',\n",
              " 'probably dirt',\n",
              " 'love place hits spot want something healthy lacking quantity flavor',\n",
              " 'ordered lemon raspberry ice cocktail also incred',\n",
              " 'food sucked expected sucked could imagin',\n",
              " 'interesting decor',\n",
              " 'really like crepe st',\n",
              " 'also served hot bread butter home made potato chips bacon bits top original good',\n",
              " 'watch preparing delicious food',\n",
              " 'egg rolls fantast',\n",
              " 'order arrived one gyros miss',\n",
              " 'salad wings ice cream dessert left feeling quite satisfi',\n",
              " 'really sure joey voted best hot dog valley readers phoenix magazin',\n",
              " 'best place go tasty bowl pho',\n",
              " 'live music fridays totally blow',\n",
              " 'never insulted felt disrespect',\n",
              " 'friendly staff',\n",
              " 'worth driv',\n",
              " 'heard good things place exceeding every hope could dream',\n",
              " 'food great serivc',\n",
              " 'warm beer help',\n",
              " 'great brunch spot',\n",
              " 'service friendly invit',\n",
              " 'good lunch spot',\n",
              " 'lived since 1979 first last time stepped foot plac',\n",
              " 'worst experience ev',\n",
              " 'must night plac',\n",
              " 'sides delish mixed mushrooms yukon gold puree white corn beat',\n",
              " 'bug never showed would given 4 sure side wall bug climbing kitchen',\n",
              " '10 minutes waiting salad realized coming time soon',\n",
              " 'friend loved salmon tartar',\n",
              " 'go back',\n",
              " 'extremely tasti',\n",
              " 'waitress good though',\n",
              " 'soggy good',\n",
              " 'jamaican mojitos delici',\n",
              " 'small worth pric',\n",
              " 'food rich order accordingli',\n",
              " 'shower area outside rinse take full shower unless mind nude everyone se',\n",
              " 'service bit lack',\n",
              " 'lobster bisque bussell sprouts risotto filet needed salt pepper course none t',\n",
              " 'hopefully bodes going business someone cook com',\n",
              " 'either cold enough flavor bad',\n",
              " 'loved bacon wrapped d',\n",
              " 'unbelievable bargain',\n",
              " 'folks otto always make us feel welcome speci',\n",
              " 'mains also uninspir',\n",
              " 'place first pho amaz',\n",
              " 'wonderful experience made place must stop whenever town',\n",
              " 'food bad enough enjoy dealing world worst annoying drunk peopl',\n",
              " 'fun chef',\n",
              " 'ordered double cheeseburger got single patty falling apart picture uploaded yeah still suck',\n",
              " 'great place couple drinks watch sporting events walls covered tv',\n",
              " 'possible give zero star',\n",
              " 'descriptions said yum yum sauce another said eel sauce yet another said spicy mayo well none rolls sauc',\n",
              " 'say would hardest decision honestly dishes taste supposed taste amaz',\n",
              " 'rolled eyes may stayed sure go back tri',\n",
              " 'everyone attentive providing excellent customer servic',\n",
              " 'horrible waste time money',\n",
              " 'dish quite flavour',\n",
              " 'time side restaurant almost empty excus',\n",
              " 'busy either also building freezing cold',\n",
              " 'like reviewer said pay eat plac',\n",
              " 'drinks took close 30 minutes come one point',\n",
              " 'seriously flavorful delights folk',\n",
              " 'much better ayce sushi place went vega',\n",
              " 'lighting dark enough set mood',\n",
              " 'based sub par service received effort show gratitude business going back',\n",
              " 'owner really great peopl',\n",
              " 'nothing privileged working ',\n",
              " 'greek dressing creamy flavor',\n",
              " 'overall think would take parents place made similar complaints silently felt',\n",
              " 'pizza good peanut sauce tasti',\n",
              " '7 table service pretty fast',\n",
              " 'fantastic servic',\n",
              " 'well would given godfathers zero stars poss',\n",
              " 'know mak',\n",
              " 'tough short flavor',\n",
              " 'hope place sticks around',\n",
              " 'bars vegas ever recall charged tap wat',\n",
              " 'restaurant atmosphere exquisit',\n",
              " 'good service clean inexpensive boot',\n",
              " 'seafood fresh generous port',\n",
              " 'plus 8 buck',\n",
              " 'service par eith',\n",
              " 'thus far visited twice food absolutely delicious tim',\n",
              " 'good year ago',\n",
              " 'self proclaimed coffee cafe wildly disappoint',\n",
              " 'veggitarian platter world',\n",
              " 'cant go wrong food',\n",
              " 'beat',\n",
              " 'stopped place madison ironman friendly kind staff',\n",
              " 'chefs friendly good job',\n",
              " 'better dedicated boba tea spots even jenni pho',\n",
              " 'liked patio service outstand',\n",
              " 'goat taco skimp meat wow flavor',\n",
              " 'think',\n",
              " 'mac salad pretty bland get',\n",
              " 'went bachi burger friend recommendation disappoint',\n",
              " 'service stink',\n",
              " 'waited wait',\n",
              " 'place quality sushi quality restaur',\n",
              " 'would definitely recommend wings well pizza',\n",
              " 'great pizza salad',\n",
              " 'things went wrong burned saganaki',\n",
              " 'waited hour breakfast could done 100 times better hom',\n",
              " 'place amaz',\n",
              " 'hate disagree fellow yelpers husband disappointed plac',\n",
              " 'waited 2 hours never got either pizzas many around us came lat',\n",
              " 'know slow',\n",
              " 'staff great food delish incredible beer select',\n",
              " 'live neighborhood disappointed back convenient loc',\n",
              " 'know pulled pork could soooo delici',\n",
              " 'get incredibly fresh fish prepared car',\n",
              " 'go gave 1 star rating please know third time eating bachi burger writing review',\n",
              " 'love fact everything menu worth',\n",
              " 'never dining plac',\n",
              " 'food excellent service good',\n",
              " 'good beer drink selection good food select',\n",
              " 'please stay away shrimp stir fried noodl',\n",
              " 'potato chip order sad could probably count many chips box probably around 12',\n",
              " 'food really bor',\n",
              " 'good service check',\n",
              " 'greedy corporation never see another dim',\n",
              " 'never ever go back',\n",
              " 'much like go back get passed atrocious service never return',\n",
              " 'summer dine charming outdoor patio delight',\n",
              " 'expect good',\n",
              " 'fantastic food',\n",
              " 'ordered toasted english muffin came untoast',\n",
              " 'food good',\n",
              " 'never going back',\n",
              " 'great food price high quality house mad',\n",
              " 'bus boy hand rud',\n",
              " 'point friends basically figured place joke mind making publicly loudly known',\n",
              " 'back good bbq lighter fare reasonable pricing tell public back old way',\n",
              " 'considering two us left full happy 20 go wrong',\n",
              " 'bread made hous',\n",
              " 'downside servic',\n",
              " 'also fries without doubt worst fries ev',\n",
              " 'service exceptional food good review',\n",
              " 'couple months later returned amazing m',\n",
              " 'favorite place town shawarrrrrrma',\n",
              " 'black eyed peas sweet potatoes unr',\n",
              " 'disappoint',\n",
              " 'could serve vinaigrette may make better overall dish still good',\n",
              " 'go far many places never seen restaurant serves 1 egg breakfast especially 4 00',\n",
              " 'mom got home immediately got sick bites salad',\n",
              " 'servers pleasant deal always honor pizza hut coupon',\n",
              " 'truly unbelievably good glad went back',\n",
              " 'fantastic service pleased atmospher',\n",
              " 'everything gross',\n",
              " 'love plac',\n",
              " 'great service food',\n",
              " 'first bathrooms location dirty seat covers replenished plain yucki',\n",
              " 'burger got gold standard 17 burger kind disappoint',\n",
              " 'omg food delicioso',\n",
              " 'nothing authentic plac',\n",
              " 'spaghetti nothing special whatsoev',\n",
              " 'dishes salmon best great',\n",
              " 'vegetables fresh sauce feels like authentic thai',\n",
              " 'worth driving tucson',\n",
              " 'selection probably worst seen vegas non',\n",
              " 'pretty good beer select',\n",
              " 'place like chipotle bett',\n",
              " 'classy warm atmosphere fun fresh appetizers succulent steaks baseball steak',\n",
              " '5 stars brick oven bread app',\n",
              " 'eaten multiple times time food delici',\n",
              " 'sat another ten minutes finally gave left',\n",
              " 'terribl',\n",
              " 'everyone treated equally speci',\n",
              " 'take 30 min pancakes egg',\n",
              " 'delici',\n",
              " 'good side staff genuinely pleasant enthusiastic real treat',\n",
              " 'sadly gordon ramsey steak place shall sharply avoid next trip vega',\n",
              " 'always evening wonderful food delici',\n",
              " 'best fish ever lif',\n",
              " 'bathroom next door nic',\n",
              " 'buffet small food offered bland',\n",
              " 'outstanding little restaurant best food ever tast',\n",
              " 'pretty cool would say',\n",
              " 'definitely turn doubt back unless someone else buy',\n",
              " 'server great job handling large rowdy t',\n",
              " 'find wasting food despicable food',\n",
              " 'wife lobster bisque soup lukewarm',\n",
              " 'would come back sushi craving vega',\n",
              " 'staff great ambiance great',\n",
              " 'deserves 5 star',\n",
              " 'left stomach ache felt sick rest day',\n",
              " 'dropped bal',\n",
              " 'dining space tiny elegantly decorated comfort',\n",
              " 'customize order way like usual eggplant green bean stir fry lov',\n",
              " 'beans rice mediocre best',\n",
              " 'best tacos town far',\n",
              " 'took back money got outta',\n",
              " 'interesting part town place amaz',\n",
              " 'rude inconsiderate manag',\n",
              " 'staff friendly wait times served horrible one even says hi first 10 minut',\n",
              " 'back',\n",
              " 'great dinn',\n",
              " 'service outshining definitely recommend halibut',\n",
              " 'food terr',\n",
              " 'never ever go back told many people happen',\n",
              " 'recommend unless car breaks front starv',\n",
              " 'come back every time vega',\n",
              " 'place deserves one star 90 food',\n",
              " 'disgrac',\n",
              " 'def coming back bowl next tim',\n",
              " 'want healthy authentic ethic food try plac',\n",
              " 'continue come ladies night andddd date night highly recommend place anyone area',\n",
              " 'several times past experience always great',\n",
              " 'walked away stuffed happy first vegas buffet experi',\n",
              " 'service excellent prices pretty reasonable considering vegas located inside crystals shopping mall aria',\n",
              " 'summarize food incredible nay transcendant nothing brings joy quite like memory pneumatic condiment dispens',\n",
              " 'probably one people ever go ians lik',\n",
              " 'kids pizza always hit lots great side dish options kiddo',\n",
              " 'service perfect family atmosphere nice se',\n",
              " 'cooked perfection service impecc',\n",
              " 'one simply disappoint',\n",
              " 'overall disappointed quality food bouchon',\n",
              " 'accountant know getting screw',\n",
              " 'great place eat reminds little mom pop shops san francisco bay area',\n",
              " 'today first taste buldogis gourmet hot dog tell ever thought poss',\n",
              " 'left frustr',\n",
              " 'definitely soon',\n",
              " 'food really good got full petty fast',\n",
              " 'service fantast',\n",
              " 'total waste tim',\n",
              " 'know kind best iced tea',\n",
              " 'come hungry leave happy stuf',\n",
              " 'service give star',\n",
              " 'assure disappoint',\n",
              " 'take little bad service food suck',\n",
              " 'gave trying eat crust teeth still sor',\n",
              " 'completely gross',\n",
              " 'really enjoyed ',\n",
              " 'first time going think quickly become regular',\n",
              " 'server nice even though looked little overwhelmed needs stayed professional friendly end',\n",
              " 'dinner companions told everything fresh nice texture tast',\n",
              " 'ground right next table large smeared stepped tracked everywhere pile green bird poop',\n",
              " 'furthermore even find hours operation websit',\n",
              " 'tried like place 10 times think don',\n",
              " 'mistak',\n",
              " 'complaint',\n",
              " 'seriously good pizza expert connisseur top',\n",
              " 'waiter jerk',\n",
              " 'strike 2 wants rush',\n",
              " 'nicest restaurant owners ever come across',\n",
              " 'never com',\n",
              " 'loved biscuit',\n",
              " 'service quick friendli',\n",
              " 'ordered appetizer took 40 minutes pizza another 10 minut',\n",
              " 'absolutley fantast',\n",
              " 'huge awkward 1 5lb piece cow 3 4ths gristle fat',\n",
              " 'definitely come back',\n",
              " 'like steiners dark feels like bar',\n",
              " 'wow spicy delici',\n",
              " 'familiar check',\n",
              " 'take business dinner dollars elsewher',\n",
              " 'love go back',\n",
              " 'anyway fs restaurant wonderful breakfast lunch',\n",
              " 'nothing speci',\n",
              " 'day week different deal delici',\n",
              " 'mention combination pears almonds bacon big winn',\n",
              " 'back',\n",
              " 'sauce tasteless',\n",
              " 'food delicious spicy enough sure ask spicier prefer way',\n",
              " 'ribeye steak cooked perfectly great mesquite flavor',\n",
              " 'think going back anytime soon',\n",
              " 'food gooodd',\n",
              " 'far sushi connoisseur definitely tell difference good food bad food certainly bad food',\n",
              " 'insult',\n",
              " 'last 3 times lunch bad',\n",
              " 'chicken wings contained driest chicken meat ever eaten',\n",
              " 'food good enjoyed every mouthful enjoyable relaxed venue couples small family groups etc',\n",
              " 'nargile think great',\n",
              " 'best tater tots southwest',\n",
              " 'loved plac',\n",
              " 'definitely worth 3 paid',\n",
              " 'vanilla ice cream creamy smooth profiterole choux pastry fresh enough',\n",
              " 'im az time new spot',\n",
              " 'manager worst',\n",
              " 'inside really quite nice clean',\n",
              " 'food outstanding prices reason',\n",
              " 'think running back carly anytime soon food',\n",
              " 'due fact took 20 minutes acknowledged another 35 minutes get food kept forgetting th',\n",
              " 'love margarita',\n",
              " 'first vegas buffet disappoint',\n",
              " 'good though',\n",
              " 'one note ventilation could use upgrad',\n",
              " 'great pork sandwich',\n",
              " 'waste tim',\n",
              " 'total letdown would much rather go camelback flower shop cartel coffe',\n",
              " 'third cheese friend burger cold',\n",
              " 'enjoy pizza brunch',\n",
              " 'steaks well trimmed also perfectly cook',\n",
              " 'group 70 claimed would 40 handled us beauti',\n",
              " 'love',\n",
              " 'asked bill leave without eating bring eith',\n",
              " 'place jewel las vegas exactly hoping find nearly ten years liv',\n",
              " 'seafood limited boiled shrimp crab legs crab legs definitely taste fresh',\n",
              " 'selection food best',\n",
              " 'delicious absolutely back',\n",
              " 'small family restaurant fine dining establish',\n",
              " 'toro tartare cavier extraordinary liked thinly sliced wagyu white truffl',\n",
              " 'dont think back long tim',\n",
              " 'attached gas station rarely good sign',\n",
              " 'awesom',\n",
              " 'back many times soon',\n",
              " 'menu much good stuff could decid',\n",
              " 'worse humiliated worker right front bunch horrible name cal',\n",
              " 'conclusion filling m',\n",
              " 'daily specials always hit group',\n",
              " 'tragedy struck',\n",
              " 'pancake also really good pretty larg',\n",
              " 'first crawfish experience delici',\n",
              " 'monster chicken fried steak eggs time favorit',\n",
              " 'waitress sweet funni',\n",
              " 'also taste mom multi grain pumpkin pancakes pecan butter amazing fluffy delici',\n",
              " 'rather eat airline food seri',\n",
              " 'cant say enough good things plac',\n",
              " 'ambiance incred',\n",
              " 'waitress manager friendli',\n",
              " 'would recommend plac',\n",
              " 'overall impressed noca',\n",
              " 'gyro basically lettuc',\n",
              " 'terrible servic',\n",
              " 'thoroughly disappoint',\n",
              " 'much pasta love homemade hand made pastas thin pizza',\n",
              " 'give try happi',\n",
              " 'far best cheesecurds ev',\n",
              " 'reasonably priced also',\n",
              " 'everything perfect night',\n",
              " 'food good typical bar food',\n",
              " 'drive get',\n",
              " 'first glance lovely bakery cafe nice ambiance clean friendly staff',\n",
              " 'anyway think go back',\n",
              " 'point finger item menu order disappoint',\n",
              " 'oh thing beauty restaur',\n",
              " 'gone go',\n",
              " 'greasy unhealthy m',\n",
              " 'first time might last',\n",
              " 'burgers amaz',\n",
              " 'similarly delivery man say word apology food 45 minutes l',\n",
              " 'way expens',\n",
              " 'sure order dessert even need pack go tiramisu cannoli di',\n",
              " 'first time wait next',\n",
              " 'bartender also nic',\n",
              " 'everything good tasti',\n",
              " 'place two thumbs way',\n",
              " 'best place vegas breakfast check sat sun',\n",
              " 'love authentic mexican food want whole bunch interesting yet delicious meats choose need try plac',\n",
              " 'terrible manag',\n",
              " 'excellent new restaurant experienced frenchman',\n",
              " 'zero stars would give zero star',\n",
              " 'great steak great sides great wine amazing dessert',\n",
              " 'worst martini ev',\n",
              " 'steak shrimp opinion best entrees gc',\n",
              " 'opportunity today sample amazing pizza',\n",
              " 'waited thirty minutes seated although 8 vacant tables folks wait',\n",
              " 'yellowtail carpaccio melt mouth fresh',\n",
              " 'try going back even empti',\n",
              " 'going eat potato found strangers hair',\n",
              " 'spicy enough perfect actu',\n",
              " 'last night second time dining happy decided go back',\n",
              " 'even hello right',\n",
              " 'desserts bit strang',\n",
              " 'boyfriend came first time recent trip vegas could pleased quality food servic',\n",
              " 'really recommend place go wrong donut plac',\n",
              " 'nice ambi',\n",
              " 'would recommend saving room',\n",
              " 'guess maybe went night disgrac',\n",
              " 'however recent experience particular location good',\n",
              " 'know like restaurants someth',\n",
              " 'avoid establish',\n",
              " 'think restaurant suffers trying hard enough',\n",
              " 'tapas dishes delici',\n",
              " 'heart plac',\n",
              " 'salad bland vinegrette baby greens hearts palm',\n",
              " 'two felt disgust',\n",
              " 'good tim',\n",
              " 'believe place great stop huge belly hankering sushi',\n",
              " 'generous portions great tast',\n",
              " 'never go back place never ever recommended place anyon',\n",
              " 'servers went back forth several times even much help',\n",
              " 'food delici',\n",
              " 'hour seri',\n",
              " 'consider theft',\n",
              " 'eew location needs complete overhaul',\n",
              " 'recently witnessed poor quality management towards guests wel',\n",
              " 'waited waited wait',\n",
              " 'also came back check us regularly excellent servic',\n",
              " 'server super nice checked us many tim',\n",
              " 'pizza tasted old super chewy good way',\n",
              " 'swung give try deeply disappoint',\n",
              " 'service good company bett',\n",
              " 'staff also friendly effici',\n",
              " 'service fan quick served nice folk',\n",
              " 'boy sucker dri',\n",
              " 'rate',\n",
              " 'look authentic thai food go els',\n",
              " 'steaks 100 recommend',\n",
              " 'pulled car waited another 15 minutes acknowledg',\n",
              " 'great food great service clean friendly set',\n",
              " 'assure back',\n",
              " 'hate things much cheap quality black ol',\n",
              " 'breakfast perpared great beautiful presentation 3 giant slices toast lightly dusted powdered sugar',\n",
              " 'kids play area nasti',\n",
              " 'great place fo take eat',\n",
              " 'waitress friendly happy accomodate vegan veggie opt',\n",
              " 'omg felt like never eaten thai food dish',\n",
              " 'extremely crumby pretty tasteless',\n",
              " 'pale color instead nice char flavor',\n",
              " 'croutons also taste homemade extra plu',\n",
              " 'got home see driest damn wings ev',\n",
              " 'regular stop trips phoenix',\n",
              " 'really enjoyed crema caf expanded even told friends best breakfast',\n",
              " 'good money',\n",
              " 'miss wish one philadelphia',\n",
              " 'got sitting fairly fast ended waiting 40 minutes place order another 30 minutes food arriv',\n",
              " 'also best cheese crisp town',\n",
              " 'good value great food great servic',\n",
              " 'ask satisfying m',\n",
              " 'food good',\n",
              " 'awesom',\n",
              " 'wanted leav',\n",
              " 'made drive way north scottsdale one bit disappoint',\n",
              " 'eat',\n",
              " 'owners really really need quit soooooo cheap let wrap freaking sandwich two papers on',\n",
              " 'checked place couple years ago impress',\n",
              " 'chicken got definitely reheated ok wedges cold soggi',\n",
              " 'sorry getting food anytime soon',\n",
              " 'absolute must visit',\n",
              " 'cow tongue cheek tacos amaz',\n",
              " 'friend like bloody mari',\n",
              " 'despite hard rate businesses actually rare give 1 star',\n",
              " 'really want make experience good on',\n",
              " 'return',\n",
              " 'chicken pho tasted bland',\n",
              " 'disappoint',\n",
              " 'grilled chicken tender yellow saffron season',\n",
              " 'drive thru means want wait around half hour food somehow end going make us wait wait',\n",
              " 'pretty awesome plac',\n",
              " 'ambience perfect',\n",
              " 'best luck rude non customer service focused new manag',\n",
              " 'grandmother make roasted chicken better on',\n",
              " 'asked multiple times wine list time ignored went hostess got on',\n",
              " 'staff always super friendly helpful especially cool bring two small boys babi',\n",
              " 'four stars food guy blue shirt great vibe still letting us eat',\n",
              " 'roast beef sandwich tasted really good',\n",
              " 'evening drastically sick',\n",
              " 'high quality chicken chicken caesar salad',\n",
              " 'ordered burger rare came don',\n",
              " 'promptly greeted s',\n",
              " 'tried go lunch madhous',\n",
              " 'proven dead wrong sushi bar quality great service fast food impecc',\n",
              " 'waiting hour seated greatest mood',\n",
              " 'good joint',\n",
              " 'macarons insanely good',\n",
              " 'eat',\n",
              " 'waiter attentive friendly inform',\n",
              " 'maybe cold would somewhat ed',\n",
              " 'place lot promise fails deliv',\n",
              " 'bad experi',\n",
              " 'mistak',\n",
              " 'food average best',\n",
              " 'great food',\n",
              " 'going back anytime soon',\n",
              " 'disappointed ordered 35 big bay plat',\n",
              " 'great place relax awesome burger b',\n",
              " 'perfect sit family meal get together friend',\n",
              " 'much flavor poorly construct',\n",
              " 'patio seating comfort',\n",
              " 'fried rice dry wel',\n",
              " 'hands favorite italian restaur',\n",
              " 'screams legit book somethat also pretty rare vega',\n",
              " 'fun experi',\n",
              " 'atmosphere great lovely duo violinists playing songs request',\n",
              " 'personally love hummus pita baklava falafels baba ganoush amazing eggpl',\n",
              " 'convenient since staying mgm',\n",
              " 'owners super friendly staff court',\n",
              " 'great',\n",
              " 'eclectic select',\n",
              " 'sweet potato tots good onion rings perfection clos',\n",
              " 'staff attent',\n",
              " 'chef generous time even came around twice take pictur',\n",
              " 'owner used work nobu place really similar half pric',\n",
              " 'google mediocre imagine smashburger pop',\n",
              " 'dont go',\n",
              " 'promise disappoint',\n",
              " 'sushi lover avoid place mean',\n",
              " 'great double cheeseburg',\n",
              " 'awesome service food',\n",
              " 'fantastic neighborhood gem',\n",
              " 'wait go back',\n",
              " 'plantains worst ever tast',\n",
              " 'great place highly recommend',\n",
              " 'service slow attent',\n",
              " 'gave 5 stars giving 5 star',\n",
              " 'staff spends time talk',\n",
              " 'dessert panna cotta amaz',\n",
              " 'good food great atmosphere 1',\n",
              " 'damn good steak',\n",
              " 'total brunch fail',\n",
              " 'prices reasonable flavors spot sauce home made slaw drenched mayo',\n",
              " 'decor nice piano music soundtrack pleas',\n",
              " 'steak amazing rge fillet relleno best seafood plate ev',\n",
              " 'good food good servic',\n",
              " 'absolutely amaz',\n",
              " 'probably back honest',\n",
              " 'definitely back',\n",
              " 'sergeant pepper beef sandwich auju sauce excellent sandwich wel',\n",
              " 'hawaiian breeze mango magic pineapple delight smoothies tried far good',\n",
              " 'went lunch service slow',\n",
              " 'much say place walked expected amazing quickly disappoint',\n",
              " 'mortifi',\n",
              " 'needless say never back',\n",
              " 'anyways food definitely filling price pay expect',\n",
              " 'chips came dripping grease mostly ed',\n",
              " 'really impressed strip steak',\n",
              " 'going since 2007 every meal awesom',\n",
              " 'server nice attentive serving staff',\n",
              " 'cashier friendly even brought food',\n",
              " 'work hospitality industry paradise valley refrained recommending cibo long',\n",
              " 'atmosphere fun',\n",
              " 'would recommend oth',\n",
              " 'service quick even go orders like lik',\n",
              " 'mean really get famous fish chips terr',\n",
              " 'said mouths bellies still quite pleas',\n",
              " 'thing',\n",
              " '2 thumb',\n",
              " 'reading please go',\n",
              " 'loved grilled pizza reminded legit italian pizza',\n",
              " 'pros large seating area nice bar area great simple drink menu best brick oven pizza homemade dough',\n",
              " 'really nice atmospher',\n",
              " 'tonight elk filet special suck',\n",
              " 'one bite hook',\n",
              " 'ordered old classics new dishes going times sorely disappointed everyth',\n",
              " 'cute quaint simple honest',\n",
              " 'chicken deliciously seasoned perfect fry outside moist chicken insid',\n",
              " 'food great always compliments chef',\n",
              " 'special thanks dylan recommendation order yummy tummi',\n",
              " 'awesome selection b',\n",
              " 'great food awesome servic',\n",
              " 'one nice thing added gratuity bill since party larger 6 8 expect tip',\n",
              " 'fly apple juice fli',\n",
              " 'han nan chicken also tasti',\n",
              " 'service thought good',\n",
              " 'food barely lukewarm must sitting waiting server bring u',\n",
              " 'ryan bar definitely one edinburgh establishment revisit',\n",
              " 'nicest chinese restaur',\n",
              " 'overall like food servic',\n",
              " 'also serve indian naan bread hummus spicy pine nut sauce world',\n",
              " 'probably never coming back recommend',\n",
              " 'friend pasta also bad barely touch',\n",
              " 'try airport experience tasty food speedy friendly servic',\n",
              " 'love decor chinese calligraphy wall pap',\n",
              " 'never anything complain',\n",
              " 'restaurant clean family restaurant feel',\n",
              " 'way fri',\n",
              " 'sure long stood long enough begin feel awkwardly plac',\n",
              " 'opened sandwich impressed good way',\n",
              " 'back',\n",
              " 'warm feeling service felt like guest special treat',\n",
              " 'extensive menu provides lots options breakfast',\n",
              " 'always order vegetarian menu dinner wide array options choos',\n",
              " 'watched prices inflate portions get smaller management attitudes grow rapidli',\n",
              " 'wonderful lil tapas ambience made feel warm fuzzy insid',\n",
              " 'got enjoy seafood salad fabulous vinegrett',\n",
              " 'wontons thin thick chewy almost melt mouth',\n",
              " 'level 5 spicy perfect spice whelm soup',\n",
              " 'sat right time server get go fantast',\n",
              " 'main thing enjoy crowd older crowd around mid 30',\n",
              " 'side town definitely spot hit',\n",
              " 'wait 30 minutes get drink longer get 2 arepa',\n",
              " 'great place eat',\n",
              " 'jalapeno bacon soooo good',\n",
              " 'service poor thats nic',\n",
              " 'food good service good prices good',\n",
              " 'place clean food oh stal',\n",
              " 'chicken dishes ok beef like shoe leath',\n",
              " 'service beyond bad',\n",
              " 'happi',\n",
              " 'tasted like dirt',\n",
              " 'one places phoenix would definately go back',\n",
              " 'block amaz',\n",
              " 'close house low key non fancy affordable prices good food',\n",
              " 'hot sour egg flower soups absolutely 5 star',\n",
              " 'sashimi poor quality soggy tasteless',\n",
              " 'great time family dinner sunday night',\n",
              " 'food tasty say real traditional hunan styl',\n",
              " 'bother slow servic',\n",
              " 'flair bartenders absolutely amaz',\n",
              " 'frozen margaritas way sugary tast',\n",
              " 'good ordered twic',\n",
              " 'nutshell 1 restaraunt smells like combination dirty fish market sew',\n",
              " 'girlfriend veal bad',\n",
              " 'unfortunately good',\n",
              " 'pretty satifying experi',\n",
              " 'join club get awesome offers via email',\n",
              " 'perfect someone likes beer ice cold case even cold',\n",
              " 'bland flavorless good way describing barely tepid meat',\n",
              " 'chains fan beat place easili',\n",
              " 'nachos must',\n",
              " 'coming back',\n",
              " 'many words say place everything pretty wel',\n",
              " 'staff super nice quick even crazy crowds downtown juries lawyers court staff',\n",
              " 'great atmosphere friendly fast servic',\n",
              " 'received pita huge lot meat thumb',\n",
              " 'food arrives meh',\n",
              " 'paying 7 85 hot dog fries looks like came kid meal wienerschnitzel idea good m',\n",
              " 'classic maine lobster roll fantast',\n",
              " 'brother law works mall ate day guess sick night',\n",
              " 'good going review place twice hereas tribute place tribute event held last night',\n",
              " 'chips salsa really good salsa fresh',\n",
              " 'place great',\n",
              " 'mediocre food',\n",
              " 'get inside impressed plac',\n",
              " 'super pissd',\n",
              " 'service super friendli',\n",
              " 'sad little vegetables overcook',\n",
              " 'place nice surpris',\n",
              " 'golden crispy delici',\n",
              " 'high hopes place since burgers cooked charcoal grill unfortunately taste fell flat way flat',\n",
              " 'could eat bruschetta day devin',\n",
              " 'single employee came see ok even needed water refill finally served us food',\n",
              " 'lastly mozzarella sticks best thing ord',\n",
              " 'first time ever came amazing experience still tell people awesome duck',\n",
              " 'server negligent needs made us feel unwelcome would suggest plac',\n",
              " 'service terrible though',\n",
              " 'place overpriced consistent boba really overpr',\n",
              " 'pack',\n",
              " 'love plac',\n",
              " 'say desserts yummi',\n",
              " 'food terr',\n",
              " 'seasonal fruit fresh white peach pure',\n",
              " 'kept getting worse worse officially don',\n",
              " 'place honestly blown',\n",
              " 'definitely would eat',\n",
              " 'waste money',\n",
              " 'love put food nice plastic containers opposed cramming little paper takeout box',\n",
              " 'cr pe delicate thin moist',\n",
              " 'awful servic',\n",
              " 'ever go',\n",
              " 'food quality horr',\n",
              " 'price think place would much rather gon',\n",
              " 'service fair best',\n",
              " 'love sushi found kabuki priced hip servic',\n",
              " 'favor stay away dish',\n",
              " 'poor servic',\n",
              " 'one table thought food average worth wait',\n",
              " 'best service food ever maria server good friendly made day',\n",
              " 'excel',\n",
              " 'paid bill tip felt server terrible job',\n",
              " 'lunch great experi',\n",
              " 'never bland food surprised considering article read focused much spices flavor',\n",
              " 'food way overpriced portions fucking smal',\n",
              " 'recently tried caballero back every week sinc',\n",
              " '40 bucks head really expect better food',\n",
              " 'food came good pac',\n",
              " 'ate twice last visit especially enjoyed salmon salad',\n",
              " 'back',\n",
              " 'could believe dirty oyst',\n",
              " 'place deserves star',\n",
              " 'would recommend plac',\n",
              " 'fact going round 4 stars awesom',\n",
              " 'disbelief dish qualified worst version foods ever tast',\n",
              " 'bad day low tolerance rude customer service people job nice polite wash dishes otherwis',\n",
              " 'potatoes great biscuit',\n",
              " 'probably would go',\n",
              " 'flavorful perfect amount heat',\n",
              " 'price reasonable service great',\n",
              " 'wife hated meal coconut shrimp friends really enjoy meals eith',\n",
              " 'fella got huevos rancheros look app',\n",
              " 'went happy hour great list win',\n",
              " 'may say buffet pricey think get pay place getting quite lot',\n",
              " 'probably coming back',\n",
              " 'worst food servic',\n",
              " 'place pretty good nice little vibe restaur',\n",
              " 'talk great customer service course back',\n",
              " 'hot dishes hot cold dishes close room temp watched staff prepare food bare hands gloves everything deep fried oil',\n",
              " 'love fries bean',\n",
              " 'always pleasure d',\n",
              " 'plethora salads sandwiches everything tried gets seal approv',\n",
              " 'place awesome want something light healthy summ',\n",
              " 'sushi strip place go',\n",
              " 'service great even manager came helped t',\n",
              " 'feel dining room college cooking course high class dining service slow best',\n",
              " 'started review two stars editing give on',\n",
              " 'worst sushi ever eat besides costco',\n",
              " 'excellent restaurant highlighted great service unique menu beautiful set',\n",
              " 'boyfriend sat bar completely delightful experi',\n",
              " 'weird vibe own',\n",
              " 'hardly meat',\n",
              " 'better bagels grocery stor',\n",
              " 'go place gyro',\n",
              " 'love owner chef one authentic japanese cool dud',\n",
              " 'burgers good pizza used amazing doughy flavorless',\n",
              " 'found six inch long piece wire salsa',\n",
              " 'service terrible food mediocr',\n",
              " 'definately enjoy',\n",
              " 'ordered albondigas soup warm tasted like tomato soup frozen meatbal',\n",
              " 'three different occasions asked well done medium well three times got bloodiest piece meat pl',\n",
              " 'two bites refused eat anymor',\n",
              " 'service extremely slow',\n",
              " '20 minutes wait got t',\n",
              " 'seriously killer hot chai latt',\n",
              " 'allergy warnings menu waitress absolutely clue meals contain peanut',\n",
              " 'boyfriend tried mediterranean chicken salad fell lov',\n",
              " 'rotating beers tap also highlight plac',\n",
              " 'pricing bit concern mellow mushroom',\n",
              " 'worst thai ev',\n",
              " 'stay vegas must get breakfast least',\n",
              " 'want first say server great perfect servic',\n",
              " 'pizza selections good',\n",
              " 'strawberry tea good',\n",
              " 'highly unprofessional rude loyal patron',\n",
              " 'overall great experi',\n",
              " 'spend money elsewher',\n",
              " 'regular toasted bread equally satisfying occasional pats butter mmmm',\n",
              " 'buffet bellagio far anticip',\n",
              " 'drinks weak peopl',\n",
              " 'order correct',\n",
              " 'also feel like chips bought made hous',\n",
              " 'disappointing dinner went elsewhere dessert',\n",
              " 'chips sals amaz',\n",
              " 'return',\n",
              " 'new fav vegas buffet spot',\n",
              " 'seriously cannot believe owner many unexperienced employees running around like chickens heads cut',\n",
              " 'sad',\n",
              " 'felt insulted disrespected could talk judge another human lik',\n",
              " 'call steakhouse properly cook steak understand',\n",
              " 'impressed concept food',\n",
              " 'thing crazy guacamole like pur ',\n",
              " 'really nothing postinos hope experience bett',\n",
              " 'got food poisoning buffet',\n",
              " 'brought fresh batch fries thinking yay something warm',\n",
              " 'hilarious yummy christmas eve dinner remember biggest fail entire trip u',\n",
              " 'needless say going back anytime soon',\n",
              " 'place disgust',\n",
              " 'every time eat see caring teamwork professional degre',\n",
              " 'ri style calamari jok',\n",
              " 'however much garlic fondue barely ed',\n",
              " 'could barely stomach meal complain business lunch',\n",
              " 'bad lost heart finish',\n",
              " 'also took forever bring us check ask',\n",
              " 'ones make scene restaurants get definitely lost love on',\n",
              " 'disappointing experi',\n",
              " 'food par denny say good',\n",
              " 'want wait mediocre food downright terrible service plac',\n",
              " 'waaaaaayyyyyyyyyy rated say',\n",
              " 'going back',\n",
              " 'place fairly clean food simply worth',\n",
              " 'place lacked styl',\n",
              " 'sangria half glass wine full 12 ridicul',\n",
              " 'bother com',\n",
              " 'meat pretty dry sliced brisket pulled pork',\n",
              " 'building seems pretty neat bathroom pretty trippy eat',\n",
              " 'equally aw',\n",
              " 'probably hurry go back',\n",
              " 'slow seating even reserv',\n",
              " 'good stretch imagin',\n",
              " 'cashew cream sauce bland vegetables undercook',\n",
              " 'chipolte ranch dipping sause tasteless seemed thin watered heat',\n",
              " 'bit sweet really spicy enough lacked flavor',\n",
              " 'disappoint',\n",
              " 'place horrible way overpr',\n",
              " 'maybe vegetarian fare twice thought average best',\n",
              " 'busy know',\n",
              " 'tables outside also dirty lot time workers always friendly helpful menu',\n",
              " 'ambiance feel like buffet setting douchey indoor garden tea biscuit',\n",
              " 'con spotty servic',\n",
              " 'fries hot neither burg',\n",
              " 'came back cold',\n",
              " 'food came disappointment ensu',\n",
              " 'real disappointment wait',\n",
              " 'husband said rude even apologize bad food anyth',\n",
              " 'reason eat would fill night binge drinking get carbs stomach',\n",
              " 'insults profound deuchebaggery go outside smoke break serving solidifi',\n",
              " 'someone orders two tacos think may part customer service ask combo ala cart',\n",
              " 'quite disappointed although blame needs placed door',\n",
              " 'rave reviews wait eat disappoint',\n",
              " 'del taco pretty nasty avoided poss',\n",
              " 'hard make decent hamburg',\n",
              " 'like',\n",
              " 'hell go back',\n",
              " 'gotten much better service pizza place next door services received restaur',\n",
              " 'know big deal place back ya',\n",
              " 'immediately said wanted talk manager want talk guy shots fireball behind bar',\n",
              " 'ambiance much bett',\n",
              " 'unfortunately set us disapppointment entre',\n",
              " 'food good',\n",
              " 'servers suck wait correction server heimer suck',\n",
              " 'happened next pretty put',\n",
              " 'bad cause know family owned really wanted like plac',\n",
              " 'overpriced get',\n",
              " 'vomited bathroom mid lunch',\n",
              " 'kept looking time soon become 35 minutes yet still food',\n",
              " 'places eat circumstances would ever return tops list',\n",
              " 'started tuna sashimi brownish color obviously fresh',\n",
              " 'food averag',\n",
              " 'sure beat nachos movies would expect little bit coming restaur',\n",
              " 'ha long bay bit flop',\n",
              " 'problem charge 11 99 sandwich bigger subway sub offers better amount veget',\n",
              " 'shrimp unwrapped live 1 2 mile brushfire literally ice cold',\n",
              " 'lacked flavor seemed undercooked dri',\n",
              " 'really impressive place clos',\n",
              " 'would avoid place staying mirag',\n",
              " 'refried beans came meal dried crusty food bland',\n",
              " 'spend money time place els',\n",
              " 'lady table next us found live green caterpillar salad',\n",
              " 'presentation food aw',\n",
              " 'tell disappoint',\n",
              " 'think food flavor texture lack',\n",
              " 'appetite instantly gon',\n",
              " 'overall impressed would go back',\n",
              " 'whole experience underwhelming think go ninja sushi next tim',\n",
              " 'wasted enough life poured salt wound drawing time took bring check']"
            ]
          },
          "execution_count": 90,
          "metadata": {},
          "output_type": "execute_result"
        }
      ],
      "source": [
        "#putting it all together\n",
        "\n",
        "corpus= []\n",
        "for i in range(len(Data)):\n",
        "    s=re.sub('[^a-zA-Z0-9]',' ', Data['Review'][i])\n",
        "    s=s.lower()\n",
        "    s=s.split()\n",
        "    s=[word for word in s if word not in  stopwords.words('english') ]\n",
        "    s=' '.join(s)\n",
        "    s=porter.stem(s)\n",
        "    corpus.append(s)\n",
        "corpus"
      ]
    },
    {
      "cell_type": "code",
      "execution_count": null,
      "id": "8d0d4544",
      "metadata": {
        "id": "8d0d4544"
      },
      "outputs": [],
      "source": [
        "vectorizer = CountVectorizer()"
      ]
    },
    {
      "cell_type": "code",
      "execution_count": null,
      "id": "3aa69d1a",
      "metadata": {
        "id": "3aa69d1a",
        "outputId": "bc1fdd99-5317-4c0a-a3a8-393f3c8e8eb8"
      },
      "outputs": [
        {
          "data": {
            "text/plain": [
              "array([[0, 0, 0, ..., 0, 0, 0],\n",
              "       [0, 0, 0, ..., 0, 0, 0],\n",
              "       [0, 0, 0, ..., 0, 0, 0],\n",
              "       ...,\n",
              "       [0, 0, 0, ..., 0, 0, 0],\n",
              "       [0, 0, 0, ..., 0, 0, 0],\n",
              "       [0, 0, 0, ..., 0, 0, 0]], dtype=int64)"
            ]
          },
          "execution_count": 92,
          "metadata": {},
          "output_type": "execute_result"
        }
      ],
      "source": [
        "vectorizer.fit_transform(corpus).toarray()"
      ]
    },
    {
      "cell_type": "code",
      "execution_count": null,
      "id": "71c71349",
      "metadata": {
        "id": "71c71349"
      },
      "outputs": [],
      "source": [
        "x= vectorizer.fit_transform(corpus).toarray()\n"
      ]
    },
    {
      "cell_type": "code",
      "execution_count": null,
      "id": "ff92cfb9",
      "metadata": {
        "id": "ff92cfb9"
      },
      "outputs": [],
      "source": [
        "y = Data['Liked']"
      ]
    },
    {
      "cell_type": "code",
      "execution_count": null,
      "id": "2e6da8e4",
      "metadata": {
        "id": "2e6da8e4"
      },
      "outputs": [],
      "source": [
        "# Model Traning , building "
      ]
    },
    {
      "cell_type": "code",
      "execution_count": null,
      "id": "5e3c798c",
      "metadata": {
        "id": "5e3c798c"
      },
      "outputs": [],
      "source": [
        "\n",
        "from sklearn.model_selection import train_test_split"
      ]
    },
    {
      "cell_type": "code",
      "execution_count": null,
      "id": "64ccae26",
      "metadata": {
        "id": "64ccae26"
      },
      "outputs": [],
      "source": [
        "x_train, x_test, y_train, y_test = train_test_split(x,y, test_size=0.33, random_state=42)"
      ]
    },
    {
      "cell_type": "code",
      "execution_count": null,
      "id": "a48be55f",
      "metadata": {
        "id": "a48be55f",
        "outputId": "601acf8f-9b77-47d5-cc8c-a65ac80caf5a"
      },
      "outputs": [
        {
          "data": {
            "text/html": [
              "<style>#sk-container-id-3 {color: black;background-color: white;}#sk-container-id-3 pre{padding: 0;}#sk-container-id-3 div.sk-toggleable {background-color: white;}#sk-container-id-3 label.sk-toggleable__label {cursor: pointer;display: block;width: 100%;margin-bottom: 0;padding: 0.3em;box-sizing: border-box;text-align: center;}#sk-container-id-3 label.sk-toggleable__label-arrow:before {content: \"▸\";float: left;margin-right: 0.25em;color: #696969;}#sk-container-id-3 label.sk-toggleable__label-arrow:hover:before {color: black;}#sk-container-id-3 div.sk-estimator:hover label.sk-toggleable__label-arrow:before {color: black;}#sk-container-id-3 div.sk-toggleable__content {max-height: 0;max-width: 0;overflow: hidden;text-align: left;background-color: #f0f8ff;}#sk-container-id-3 div.sk-toggleable__content pre {margin: 0.2em;color: black;border-radius: 0.25em;background-color: #f0f8ff;}#sk-container-id-3 input.sk-toggleable__control:checked~div.sk-toggleable__content {max-height: 200px;max-width: 100%;overflow: auto;}#sk-container-id-3 input.sk-toggleable__control:checked~label.sk-toggleable__label-arrow:before {content: \"▾\";}#sk-container-id-3 div.sk-estimator input.sk-toggleable__control:checked~label.sk-toggleable__label {background-color: #d4ebff;}#sk-container-id-3 div.sk-label input.sk-toggleable__control:checked~label.sk-toggleable__label {background-color: #d4ebff;}#sk-container-id-3 input.sk-hidden--visually {border: 0;clip: rect(1px 1px 1px 1px);clip: rect(1px, 1px, 1px, 1px);height: 1px;margin: -1px;overflow: hidden;padding: 0;position: absolute;width: 1px;}#sk-container-id-3 div.sk-estimator {font-family: monospace;background-color: #f0f8ff;border: 1px dotted black;border-radius: 0.25em;box-sizing: border-box;margin-bottom: 0.5em;}#sk-container-id-3 div.sk-estimator:hover {background-color: #d4ebff;}#sk-container-id-3 div.sk-parallel-item::after {content: \"\";width: 100%;border-bottom: 1px solid gray;flex-grow: 1;}#sk-container-id-3 div.sk-label:hover label.sk-toggleable__label {background-color: #d4ebff;}#sk-container-id-3 div.sk-serial::before {content: \"\";position: absolute;border-left: 1px solid gray;box-sizing: border-box;top: 0;bottom: 0;left: 50%;z-index: 0;}#sk-container-id-3 div.sk-serial {display: flex;flex-direction: column;align-items: center;background-color: white;padding-right: 0.2em;padding-left: 0.2em;position: relative;}#sk-container-id-3 div.sk-item {position: relative;z-index: 1;}#sk-container-id-3 div.sk-parallel {display: flex;align-items: stretch;justify-content: center;background-color: white;position: relative;}#sk-container-id-3 div.sk-item::before, #sk-container-id-3 div.sk-parallel-item::before {content: \"\";position: absolute;border-left: 1px solid gray;box-sizing: border-box;top: 0;bottom: 0;left: 50%;z-index: -1;}#sk-container-id-3 div.sk-parallel-item {display: flex;flex-direction: column;z-index: 1;position: relative;background-color: white;}#sk-container-id-3 div.sk-parallel-item:first-child::after {align-self: flex-end;width: 50%;}#sk-container-id-3 div.sk-parallel-item:last-child::after {align-self: flex-start;width: 50%;}#sk-container-id-3 div.sk-parallel-item:only-child::after {width: 0;}#sk-container-id-3 div.sk-dashed-wrapped {border: 1px dashed gray;margin: 0 0.4em 0.5em 0.4em;box-sizing: border-box;padding-bottom: 0.4em;background-color: white;}#sk-container-id-3 div.sk-label label {font-family: monospace;font-weight: bold;display: inline-block;line-height: 1.2em;}#sk-container-id-3 div.sk-label-container {text-align: center;}#sk-container-id-3 div.sk-container {/* jupyter's `normalize.less` sets `[hidden] { display: none; }` but bootstrap.min.css set `[hidden] { display: none !important; }` so we also need the `!important` here to be able to override the default hidden behavior on the sphinx rendered scikit-learn.org. See: https://github.com/scikit-learn/scikit-learn/issues/21755 */display: inline-block !important;position: relative;}#sk-container-id-3 div.sk-text-repr-fallback {display: none;}</style><div id=\"sk-container-id-3\" class=\"sk-top-container\"><div class=\"sk-text-repr-fallback\"><pre>MultinomialNB()</pre><b>In a Jupyter environment, please rerun this cell to show the HTML representation or trust the notebook. <br />On GitHub, the HTML representation is unable to render, please try loading this page with nbviewer.org.</b></div><div class=\"sk-container\" hidden><div class=\"sk-item\"><div class=\"sk-estimator sk-toggleable\"><input class=\"sk-toggleable__control sk-hidden--visually\" id=\"sk-estimator-id-3\" type=\"checkbox\" checked><label for=\"sk-estimator-id-3\" class=\"sk-toggleable__label sk-toggleable__label-arrow\">MultinomialNB</label><div class=\"sk-toggleable__content\"><pre>MultinomialNB()</pre></div></div></div></div></div>"
            ],
            "text/plain": [
              "MultinomialNB()"
            ]
          },
          "execution_count": 98,
          "metadata": {},
          "output_type": "execute_result"
        }
      ],
      "source": [
        "from sklearn.naive_bayes import MultinomialNB\n",
        "\n",
        "# Build a MultinomialNB Classifier\n",
        "model = MultinomialNB()\n",
        "\n",
        "# Model training\n",
        "model.fit(x_train, y_train)\n",
        "\n"
      ]
    },
    {
      "cell_type": "code",
      "execution_count": null,
      "id": "03a52adf",
      "metadata": {
        "id": "03a52adf",
        "outputId": "5d013b96-6671-4a1b-ff06-93133a346980"
      },
      "outputs": [
        {
          "data": {
            "text/html": [
              "<style>#sk-container-id-4 {color: black;background-color: white;}#sk-container-id-4 pre{padding: 0;}#sk-container-id-4 div.sk-toggleable {background-color: white;}#sk-container-id-4 label.sk-toggleable__label {cursor: pointer;display: block;width: 100%;margin-bottom: 0;padding: 0.3em;box-sizing: border-box;text-align: center;}#sk-container-id-4 label.sk-toggleable__label-arrow:before {content: \"▸\";float: left;margin-right: 0.25em;color: #696969;}#sk-container-id-4 label.sk-toggleable__label-arrow:hover:before {color: black;}#sk-container-id-4 div.sk-estimator:hover label.sk-toggleable__label-arrow:before {color: black;}#sk-container-id-4 div.sk-toggleable__content {max-height: 0;max-width: 0;overflow: hidden;text-align: left;background-color: #f0f8ff;}#sk-container-id-4 div.sk-toggleable__content pre {margin: 0.2em;color: black;border-radius: 0.25em;background-color: #f0f8ff;}#sk-container-id-4 input.sk-toggleable__control:checked~div.sk-toggleable__content {max-height: 200px;max-width: 100%;overflow: auto;}#sk-container-id-4 input.sk-toggleable__control:checked~label.sk-toggleable__label-arrow:before {content: \"▾\";}#sk-container-id-4 div.sk-estimator input.sk-toggleable__control:checked~label.sk-toggleable__label {background-color: #d4ebff;}#sk-container-id-4 div.sk-label input.sk-toggleable__control:checked~label.sk-toggleable__label {background-color: #d4ebff;}#sk-container-id-4 input.sk-hidden--visually {border: 0;clip: rect(1px 1px 1px 1px);clip: rect(1px, 1px, 1px, 1px);height: 1px;margin: -1px;overflow: hidden;padding: 0;position: absolute;width: 1px;}#sk-container-id-4 div.sk-estimator {font-family: monospace;background-color: #f0f8ff;border: 1px dotted black;border-radius: 0.25em;box-sizing: border-box;margin-bottom: 0.5em;}#sk-container-id-4 div.sk-estimator:hover {background-color: #d4ebff;}#sk-container-id-4 div.sk-parallel-item::after {content: \"\";width: 100%;border-bottom: 1px solid gray;flex-grow: 1;}#sk-container-id-4 div.sk-label:hover label.sk-toggleable__label {background-color: #d4ebff;}#sk-container-id-4 div.sk-serial::before {content: \"\";position: absolute;border-left: 1px solid gray;box-sizing: border-box;top: 0;bottom: 0;left: 50%;z-index: 0;}#sk-container-id-4 div.sk-serial {display: flex;flex-direction: column;align-items: center;background-color: white;padding-right: 0.2em;padding-left: 0.2em;position: relative;}#sk-container-id-4 div.sk-item {position: relative;z-index: 1;}#sk-container-id-4 div.sk-parallel {display: flex;align-items: stretch;justify-content: center;background-color: white;position: relative;}#sk-container-id-4 div.sk-item::before, #sk-container-id-4 div.sk-parallel-item::before {content: \"\";position: absolute;border-left: 1px solid gray;box-sizing: border-box;top: 0;bottom: 0;left: 50%;z-index: -1;}#sk-container-id-4 div.sk-parallel-item {display: flex;flex-direction: column;z-index: 1;position: relative;background-color: white;}#sk-container-id-4 div.sk-parallel-item:first-child::after {align-self: flex-end;width: 50%;}#sk-container-id-4 div.sk-parallel-item:last-child::after {align-self: flex-start;width: 50%;}#sk-container-id-4 div.sk-parallel-item:only-child::after {width: 0;}#sk-container-id-4 div.sk-dashed-wrapped {border: 1px dashed gray;margin: 0 0.4em 0.5em 0.4em;box-sizing: border-box;padding-bottom: 0.4em;background-color: white;}#sk-container-id-4 div.sk-label label {font-family: monospace;font-weight: bold;display: inline-block;line-height: 1.2em;}#sk-container-id-4 div.sk-label-container {text-align: center;}#sk-container-id-4 div.sk-container {/* jupyter's `normalize.less` sets `[hidden] { display: none; }` but bootstrap.min.css set `[hidden] { display: none !important; }` so we also need the `!important` here to be able to override the default hidden behavior on the sphinx rendered scikit-learn.org. See: https://github.com/scikit-learn/scikit-learn/issues/21755 */display: inline-block !important;position: relative;}#sk-container-id-4 div.sk-text-repr-fallback {display: none;}</style><div id=\"sk-container-id-4\" class=\"sk-top-container\"><div class=\"sk-text-repr-fallback\"><pre>MultinomialNB()</pre><b>In a Jupyter environment, please rerun this cell to show the HTML representation or trust the notebook. <br />On GitHub, the HTML representation is unable to render, please try loading this page with nbviewer.org.</b></div><div class=\"sk-container\" hidden><div class=\"sk-item\"><div class=\"sk-estimator sk-toggleable\"><input class=\"sk-toggleable__control sk-hidden--visually\" id=\"sk-estimator-id-4\" type=\"checkbox\" checked><label for=\"sk-estimator-id-4\" class=\"sk-toggleable__label sk-toggleable__label-arrow\">MultinomialNB</label><div class=\"sk-toggleable__content\"><pre>MultinomialNB()</pre></div></div></div></div></div>"
            ],
            "text/plain": [
              "MultinomialNB()"
            ]
          },
          "execution_count": 99,
          "metadata": {},
          "output_type": "execute_result"
        }
      ],
      "source": [
        "model.fit(x_train , y_train)"
      ]
    },
    {
      "cell_type": "code",
      "execution_count": null,
      "id": "a1a363c6",
      "metadata": {
        "id": "a1a363c6",
        "outputId": "29d9a8bf-977b-4d90-c8a5-9f04309c43a3"
      },
      "outputs": [
        {
          "data": {
            "text/plain": [
              "(670, 2013)"
            ]
          },
          "execution_count": 100,
          "metadata": {},
          "output_type": "execute_result"
        }
      ],
      "source": [
        "x_train.shape"
      ]
    },
    {
      "cell_type": "code",
      "execution_count": null,
      "id": "e59e7460",
      "metadata": {
        "id": "e59e7460",
        "outputId": "1193924b-2ff6-4469-aecb-e4ab7012fa2d"
      },
      "outputs": [
        {
          "data": {
            "text/plain": [
              "(330, 2013)"
            ]
          },
          "execution_count": 101,
          "metadata": {},
          "output_type": "execute_result"
        }
      ],
      "source": [
        "x_test.shape"
      ]
    },
    {
      "cell_type": "code",
      "execution_count": null,
      "id": "d49f183f",
      "metadata": {
        "id": "d49f183f"
      },
      "outputs": [],
      "source": [
        "#Model prediction"
      ]
    },
    {
      "cell_type": "code",
      "execution_count": null,
      "id": "f5b94e3a",
      "metadata": {
        "id": "f5b94e3a",
        "outputId": "f8220db0-c8d6-483e-eb97-5827a10cb47a"
      },
      "outputs": [
        {
          "data": {
            "text/plain": [
              "array([0, 1, 1, 1, 1, 1, 0, 1, 0, 1, 0, 0, 1, 1, 1, 1, 0, 0, 1, 1, 1, 1,\n",
              "       1, 1, 0, 0, 0, 0, 1, 0, 0, 1, 0, 1, 0, 1, 1, 0, 1, 0, 1, 0, 1, 0,\n",
              "       1, 0, 0, 0, 1, 0, 0, 1, 1, 1, 0, 0, 0, 1, 0, 0, 0, 1, 1, 1, 0, 0,\n",
              "       1, 1, 0, 1, 1, 0, 1, 1, 1, 0, 0, 0, 1, 0, 0, 1, 0, 1, 1, 1, 0, 1,\n",
              "       1, 0, 1, 0, 1, 1, 0, 1, 1, 1, 0, 0, 1, 1, 1, 1, 1, 1, 1, 0, 0, 0,\n",
              "       0, 1, 1, 0, 0, 1, 1, 0, 0, 1, 1, 1, 0, 1, 1, 0, 1, 1, 0, 1, 0, 0,\n",
              "       1, 0, 1, 1, 0, 1, 1, 0, 0, 0, 1, 1, 0, 0, 0, 0, 1, 0, 0, 1, 0, 1,\n",
              "       0, 1, 1, 1, 0, 0, 1, 1, 0, 0, 1, 1, 0, 1, 1, 1, 1, 1, 0, 0, 1, 0,\n",
              "       1, 0, 0, 0, 1, 0, 1, 1, 1, 1, 1, 0, 0, 1, 0, 1, 1, 1, 0, 1, 1, 1,\n",
              "       0, 1, 0, 1, 0, 0, 1, 0, 1, 1, 1, 0, 1, 1, 0, 0, 0, 1, 1, 0, 1, 0,\n",
              "       0, 1, 0, 1, 1, 1, 1, 0, 1, 0, 0, 1, 1, 1, 1, 0, 0, 0, 1, 0, 1, 1,\n",
              "       1, 0, 0, 1, 0, 1, 0, 1, 0, 0, 1, 0, 1, 1, 1, 1, 1, 1, 1, 1, 0, 0,\n",
              "       1, 1, 0, 0, 1, 1, 0, 0, 0, 1, 1, 1, 0, 1, 0, 0, 0, 1, 1, 0, 0, 0,\n",
              "       0, 1, 0, 0, 1, 1, 0, 1, 0, 1, 0, 1, 1, 1, 0, 0, 1, 1, 0, 1, 1, 1,\n",
              "       1, 1, 1, 1, 1, 0, 0, 1, 1, 0, 1, 1, 0, 1, 0, 0, 0, 0, 1, 1, 1, 0],\n",
              "      dtype=int64)"
            ]
          },
          "execution_count": 103,
          "metadata": {},
          "output_type": "execute_result"
        }
      ],
      "source": [
        "y_pred = model.predict(x_test)\n",
        "y_pred"
      ]
    },
    {
      "cell_type": "code",
      "execution_count": null,
      "id": "98cee7a7",
      "metadata": {
        "id": "98cee7a7",
        "outputId": "0e8d37eb-9067-4d80-e560-30410b7054eb"
      },
      "outputs": [
        {
          "data": {
            "text/plain": [
              "array([1, 1, 1, 1, 1, 1, 0, 1, 0, 1, 0, 0, 0, 0, 0, 1, 1, 0, 0, 1, 1, 1,\n",
              "       0, 1, 0, 0, 1, 0, 0, 0, 1, 1, 0, 1, 0, 1, 1, 0, 1, 0, 0, 1, 1, 0,\n",
              "       1, 1, 0, 0, 1, 0, 0, 0, 0, 1, 1, 1, 0, 1, 0, 0, 0, 1, 1, 1, 1, 1,\n",
              "       1, 1, 1, 0, 1, 1, 1, 0, 1, 0, 1, 0, 0, 0, 0, 1, 0, 1, 1, 0, 0, 1,\n",
              "       1, 1, 1, 1, 0, 0, 1, 1, 1, 1, 1, 0, 1, 0, 0, 1, 1, 0, 0, 0, 0, 0,\n",
              "       1, 1, 0, 0, 0, 1, 1, 0, 0, 1, 0, 1, 0, 1, 1, 1, 1, 1, 1, 0, 0, 0,\n",
              "       1, 0, 1, 1, 0, 1, 1, 0, 0, 1, 1, 0, 0, 0, 0, 0, 1, 0, 0, 1, 0, 1,\n",
              "       0, 1, 1, 0, 0, 0, 1, 1, 0, 0, 1, 1, 0, 1, 1, 1, 1, 1, 0, 0, 1, 0,\n",
              "       1, 0, 0, 0, 1, 0, 1, 0, 0, 1, 1, 0, 0, 1, 0, 0, 1, 1, 0, 1, 1, 0,\n",
              "       0, 1, 0, 1, 0, 0, 1, 0, 1, 0, 0, 0, 1, 0, 0, 0, 0, 1, 1, 0, 1, 1,\n",
              "       0, 1, 0, 1, 1, 0, 0, 0, 0, 0, 0, 0, 1, 0, 0, 0, 0, 0, 0, 0, 1, 1,\n",
              "       1, 1, 0, 1, 0, 1, 0, 0, 0, 0, 1, 1, 1, 1, 1, 0, 1, 0, 0, 1, 1, 0,\n",
              "       1, 1, 0, 0, 1, 1, 1, 0, 0, 1, 0, 1, 0, 1, 0, 0, 0, 1, 1, 0, 0, 0,\n",
              "       1, 1, 1, 0, 0, 1, 0, 1, 1, 1, 0, 0, 0, 1, 0, 0, 0, 0, 0, 0, 1, 0,\n",
              "       0, 1, 0, 1, 0, 0, 1, 0, 0, 1, 1, 1, 0, 0, 0, 0, 0, 0, 1, 1, 0, 0],\n",
              "      dtype=int64)"
            ]
          },
          "execution_count": 104,
          "metadata": {},
          "output_type": "execute_result"
        }
      ],
      "source": [
        "y_test.values"
      ]
    },
    {
      "cell_type": "code",
      "execution_count": null,
      "id": "f774abed",
      "metadata": {
        "id": "f774abed"
      },
      "outputs": [],
      "source": [
        "#Model Evaluation"
      ]
    },
    {
      "cell_type": "code",
      "execution_count": null,
      "id": "b20749c0",
      "metadata": {
        "id": "b20749c0"
      },
      "outputs": [],
      "source": [
        "from sklearn.metrics import confusion_matrix, accuracy_score,classification_report"
      ]
    },
    {
      "cell_type": "code",
      "execution_count": null,
      "id": "1048844e",
      "metadata": {
        "id": "1048844e",
        "outputId": "b7cd7423-a297-471b-bb10-373eefaf437c"
      },
      "outputs": [
        {
          "name": "stdout",
          "output_type": "stream",
          "text": [
            "[[116  57]\n",
            " [ 31 126]]\n"
          ]
        }
      ],
      "source": [
        "print(confusion_matrix(y_test, y_pred))"
      ]
    },
    {
      "cell_type": "code",
      "execution_count": null,
      "id": "3c5d1817",
      "metadata": {
        "id": "3c5d1817",
        "outputId": "43f9e034-3f7c-49af-8ecf-15b4abd5a9e5"
      },
      "outputs": [
        {
          "name": "stdout",
          "output_type": "stream",
          "text": [
            "0.7333333333333333\n"
          ]
        }
      ],
      "source": [
        "print(accuracy_score(y_test, y_pred))"
      ]
    },
    {
      "cell_type": "code",
      "execution_count": null,
      "id": "28a9e67a",
      "metadata": {
        "scrolled": true,
        "id": "28a9e67a",
        "outputId": "09b3ef45-e9e1-4dbd-c793-c773aab724e3"
      },
      "outputs": [
        {
          "name": "stdout",
          "output_type": "stream",
          "text": [
            "              precision    recall  f1-score   support\n",
            "\n",
            "           0       0.79      0.67      0.72       173\n",
            "           1       0.69      0.80      0.74       157\n",
            "\n",
            "    accuracy                           0.73       330\n",
            "   macro avg       0.74      0.74      0.73       330\n",
            "weighted avg       0.74      0.73      0.73       330\n",
            "\n"
          ]
        }
      ],
      "source": [
        "print(classification_report(y_test, y_pred))"
      ]
    },
    {
      "cell_type": "markdown",
      "id": "92ef0b56",
      "metadata": {
        "id": "92ef0b56"
      },
      "source": [
        "**Creating the Bag of Words model**"
      ]
    },
    {
      "cell_type": "code",
      "execution_count": null,
      "id": "c5501936",
      "metadata": {
        "id": "c5501936"
      },
      "outputs": [],
      "source": [
        "# upload the data\n",
        "Data= pd.read_csv(r'C:\\Users\\user\\Desktop\\NLP_project\\Restaurant_Reviews.tsv',sep='\\t', quoting=3)"
      ]
    },
    {
      "cell_type": "code",
      "execution_count": null,
      "id": "42c3bb8b",
      "metadata": {
        "id": "42c3bb8b",
        "outputId": "c610793d-55da-436b-8d73-6747a805301f"
      },
      "outputs": [
        {
          "data": {
            "text/html": [
              "<div>\n",
              "<style scoped>\n",
              "    .dataframe tbody tr th:only-of-type {\n",
              "        vertical-align: middle;\n",
              "    }\n",
              "\n",
              "    .dataframe tbody tr th {\n",
              "        vertical-align: top;\n",
              "    }\n",
              "\n",
              "    .dataframe thead th {\n",
              "        text-align: right;\n",
              "    }\n",
              "</style>\n",
              "<table border=\"1\" class=\"dataframe\">\n",
              "  <thead>\n",
              "    <tr style=\"text-align: right;\">\n",
              "      <th></th>\n",
              "      <th>Review</th>\n",
              "      <th>Liked</th>\n",
              "    </tr>\n",
              "  </thead>\n",
              "  <tbody>\n",
              "    <tr>\n",
              "      <th>0</th>\n",
              "      <td>Wow... Loved this place.</td>\n",
              "      <td>1</td>\n",
              "    </tr>\n",
              "    <tr>\n",
              "      <th>1</th>\n",
              "      <td>Crust is not good.</td>\n",
              "      <td>0</td>\n",
              "    </tr>\n",
              "    <tr>\n",
              "      <th>2</th>\n",
              "      <td>Not tasty and the texture was just nasty.</td>\n",
              "      <td>0</td>\n",
              "    </tr>\n",
              "    <tr>\n",
              "      <th>3</th>\n",
              "      <td>Stopped by during the late May bank holiday of...</td>\n",
              "      <td>1</td>\n",
              "    </tr>\n",
              "    <tr>\n",
              "      <th>4</th>\n",
              "      <td>The selection on the menu was great and so wer...</td>\n",
              "      <td>1</td>\n",
              "    </tr>\n",
              "    <tr>\n",
              "      <th>...</th>\n",
              "      <td>...</td>\n",
              "      <td>...</td>\n",
              "    </tr>\n",
              "    <tr>\n",
              "      <th>995</th>\n",
              "      <td>I think food should have flavor and texture an...</td>\n",
              "      <td>0</td>\n",
              "    </tr>\n",
              "    <tr>\n",
              "      <th>996</th>\n",
              "      <td>Appetite instantly gone.</td>\n",
              "      <td>0</td>\n",
              "    </tr>\n",
              "    <tr>\n",
              "      <th>997</th>\n",
              "      <td>Overall I was not impressed and would not go b...</td>\n",
              "      <td>0</td>\n",
              "    </tr>\n",
              "    <tr>\n",
              "      <th>998</th>\n",
              "      <td>The whole experience was underwhelming, and I ...</td>\n",
              "      <td>0</td>\n",
              "    </tr>\n",
              "    <tr>\n",
              "      <th>999</th>\n",
              "      <td>Then, as if I hadn't wasted enough of my life ...</td>\n",
              "      <td>0</td>\n",
              "    </tr>\n",
              "  </tbody>\n",
              "</table>\n",
              "<p>1000 rows × 2 columns</p>\n",
              "</div>"
            ],
            "text/plain": [
              "                                                Review  Liked\n",
              "0                             Wow... Loved this place.      1\n",
              "1                                   Crust is not good.      0\n",
              "2            Not tasty and the texture was just nasty.      0\n",
              "3    Stopped by during the late May bank holiday of...      1\n",
              "4    The selection on the menu was great and so wer...      1\n",
              "..                                                 ...    ...\n",
              "995  I think food should have flavor and texture an...      0\n",
              "996                           Appetite instantly gone.      0\n",
              "997  Overall I was not impressed and would not go b...      0\n",
              "998  The whole experience was underwhelming, and I ...      0\n",
              "999  Then, as if I hadn't wasted enough of my life ...      0\n",
              "\n",
              "[1000 rows x 2 columns]"
            ]
          },
          "execution_count": 116,
          "metadata": {},
          "output_type": "execute_result"
        }
      ],
      "source": [
        "# Review Data\n",
        "Data"
      ]
    },
    {
      "cell_type": "code",
      "execution_count": null,
      "id": "5897e089",
      "metadata": {
        "id": "5897e089",
        "outputId": "236932de-3187-4f76-ae4e-752350999e33"
      },
      "outputs": [
        {
          "name": "stderr",
          "output_type": "stream",
          "text": [
            "[nltk_data] Downloading package stopwords to\n",
            "[nltk_data]     C:\\Users\\user\\AppData\\Roaming\\nltk_data...\n",
            "[nltk_data]   Package stopwords is already up-to-date!\n"
          ]
        }
      ],
      "source": [
        "# Cleaning the texts\n",
        "import re\n",
        "import nltk\n",
        "nltk.download('stopwords')\n",
        "from nltk.corpus import stopwords\n",
        "from nltk.stem.porter import PorterStemmer #used fr stemming the word\n",
        "corpus = []\n",
        "for i in range(0, Data.shape[0]):\n",
        "    review = re.sub('[^a-zA-Z]', ' ', Data['Review'][i])  \n",
        "    review = review.split()\n",
        "    ps = PorterStemmer()\n",
        "    all_stopwords = stopwords.words('english')\n",
        "    all_stopwords.remove('not')\n",
        "    review = [ps.stem(word) for word in review if not word in set(all_stopwords)]\n",
        "    review = ' '.join(review)\n",
        "    corpus.append(review)"
      ]
    },
    {
      "cell_type": "code",
      "execution_count": null,
      "id": "619734e6",
      "metadata": {
        "id": "619734e6"
      },
      "outputs": [],
      "source": [
        "# Creating the Bag of Words model\n",
        "from sklearn.feature_extraction.text import CountVectorizer\n",
        "cv = CountVectorizer(max_features= 1600)\n",
        "X = cv.fit_transform(corpus).toarray()\n",
        "y = Data.iloc[:, -1].values\n",
        "\n",
        "# Splitting the dataset into the Training set and Test set\n",
        "from sklearn.model_selection import train_test_split\n",
        "X_train, X_test, y_train, y_test = train_test_split(X, y, test_size= .2, random_state = 0)\n",
        "\n",
        "from sklearn.ensemble import RandomForestClassifier\n",
        "from sklearn.metrics import confusion_matrix, accuracy_score\n",
        "\n",
        "classifier = RandomForestClassifier(n_estimators=1000, criterion='entropy')\n",
        "classifier.fit(X_train, y_train)\n",
        "\n",
        "# Predicting the Test set results\n",
        "y_pred = classifier.predict(X_test)"
      ]
    },
    {
      "cell_type": "code",
      "execution_count": null,
      "id": "f4987047",
      "metadata": {
        "id": "f4987047",
        "outputId": "dea2b5ab-84f0-418c-ae5e-7fa1961df8d2"
      },
      "outputs": [
        {
          "name": "stdout",
          "output_type": "stream",
          "text": [
            "[[90  7]\n",
            " [35 68]]\n",
            "0.79\n"
          ]
        }
      ],
      "source": [
        "from sklearn.metrics import confusion_matrix, accuracy_score,classification_report\n",
        "# Making the Confusion Matrix\n",
        "from sklearn.metrics import confusion_matrix, accuracy_score\n",
        "\n",
        "# Calculate and print the confusion matrix\n",
        "cm = confusion_matrix(y_test, y_pred)\n",
        "print(cm)\n",
        "\n",
        "# Calculate and print the accuracy score\n",
        "accuracy = accuracy_score(y_test, y_pred)\n",
        "print(accuracy)"
      ]
    },
    {
      "cell_type": "code",
      "execution_count": null,
      "id": "c1e93b1e",
      "metadata": {
        "id": "c1e93b1e",
        "outputId": "a224b025-0d2f-4120-c0aa-6db4eed63ce0"
      },
      "outputs": [
        {
          "name": "stdout",
          "output_type": "stream",
          "text": [
            "0.79\n"
          ]
        }
      ],
      "source": [
        "print(accuracy_score(y_test, y_pred))"
      ]
    },
    {
      "cell_type": "code",
      "execution_count": null,
      "id": "aeb318f1",
      "metadata": {
        "id": "aeb318f1",
        "outputId": "f8d1f0a0-be70-484b-caa7-38be7efc64a3"
      },
      "outputs": [
        {
          "name": "stdout",
          "output_type": "stream",
          "text": [
            "              precision    recall  f1-score   support\n",
            "\n",
            "           0       0.72      0.93      0.81        97\n",
            "           1       0.91      0.66      0.76       103\n",
            "\n",
            "    accuracy                           0.79       200\n",
            "   macro avg       0.81      0.79      0.79       200\n",
            "weighted avg       0.82      0.79      0.79       200\n",
            "\n"
          ]
        }
      ],
      "source": [
        "print(classification_report(y_test, y_pred))"
      ]
    },
    {
      "cell_type": "code",
      "execution_count": null,
      "id": "28208f78",
      "metadata": {
        "id": "28208f78"
      },
      "outputs": [],
      "source": [
        "import pandas as pd\n",
        "from sklearn.feature_extraction.text import CountVectorizer\n",
        "from sklearn.ensemble import RandomForestClassifier\n",
        "import tkinter as tk\n",
        "\n",
        "# Load the data and create Bag of Words model\n",
        "Data= pd.read_csv(r'C:\\Users\\user\\Desktop\\NLP_project\\Restaurant_Reviews.tsv',sep='\\t', quoting=3)\n",
        "corpus = Data['Review'].values.astype('U')\n",
        "cv = CountVectorizer(max_features=1600)\n",
        "X = cv.fit_transform(corpus).toarray()\n",
        "y = Data.iloc[:, -1].values"
      ]
    },
    {
      "cell_type": "code",
      "execution_count": null,
      "id": "51fc8c08",
      "metadata": {
        "id": "51fc8c08"
      },
      "outputs": [],
      "source": [
        "# Train the Random Forest classifier\n",
        "classifier = RandomForestClassifier(n_estimators=1000, criterion='entropy')\n",
        "classifier.fit(X, y)\n",
        "\n",
        "# Define the GUI\n",
        "def analyze_phrase():\n",
        "    # Get the input phrase from the user\n",
        "    phrase = entry.get()\n",
        "    \n",
        "    # Analyze the phrase using the trained model\n",
        "    phrase_transformed = cv.transform([phrase]).toarray()\n",
        "    prediction = classifier.predict(phrase_transformed)[0]\n",
        "    \n",
        "    # Display the result\n",
        "    if prediction == 0:\n",
        "        result_label.config(text=\"The phrase is negative.\")\n",
        "    else:\n",
        "        result_label.config(text=\"The phrase is positive.\")\n",
        "\n",
        "# Create the GUI window\n",
        "window = tk.Tk()\n",
        "window.title(\"Sentiment Analysis\")\n",
        "\n",
        "# Create the input field and button\n",
        "entry = tk.Entry(window, width=100)\n",
        "entry.pack(pady=10)\n",
        "analyze_button = tk.Button(window, text=\"Analyze\", command=analyze_phrase)\n",
        "analyze_button.pack()\n",
        "\n",
        "# Create the label to display the result\n",
        "result_label = tk.Label(window, text=\"\")\n",
        "result_label.pack(pady=10)\n",
        "\n",
        "# Start the GUI event loop\n",
        "window.mainloop()"
      ]
    },
    {
      "cell_type": "code",
      "execution_count": null,
      "id": "8d503132",
      "metadata": {
        "id": "8d503132"
      },
      "outputs": [],
      "source": []
    }
  ],
  "metadata": {
    "kernelspec": {
      "display_name": "Python 3 (ipykernel)",
      "language": "python",
      "name": "python3"
    },
    "language_info": {
      "codemirror_mode": {
        "name": "ipython",
        "version": 3
      },
      "file_extension": ".py",
      "mimetype": "text/x-python",
      "name": "python",
      "nbconvert_exporter": "python",
      "pygments_lexer": "ipython3",
      "version": "3.10.9"
    },
    "colab": {
      "provenance": [],
      "include_colab_link": true
    }
  },
  "nbformat": 4,
  "nbformat_minor": 5
}